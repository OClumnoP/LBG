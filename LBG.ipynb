{
 "cells": [
  {
   "cell_type": "code",
   "execution_count": 1,
   "id": "initial_id",
   "metadata": {
    "collapsed": true,
    "ExecuteTime": {
     "end_time": "2024-06-05T09:12:16.976246900Z",
     "start_time": "2024-06-05T09:12:16.672994100Z"
    }
   },
   "outputs": [
    {
     "name": "stdout",
     "output_type": "stream",
     "text": [
      "[[174 174 174 ... 123 123 123]\n",
      " [174 174 174 ... 123 123 123]\n",
      " [174 174 174 ... 123 123 123]\n",
      " ...\n",
      " [ 47  47  47 ...  27  27  27]\n",
      " [ 47  47  47 ...  27  27  27]\n",
      " [ 47  47  47 ...  27  27  27]]\n"
     ]
    }
   ],
   "source": [
    "#On dispose d'une image d'entrée carrée en niveau de gris\n",
    "from PIL import Image\n",
    "import numpy as np\n",
    "\n",
    "def image_to_gray_matrix(image_path):\n",
    "    \"\"\"\n",
    "    Convertit une image en niveaux de gris en une matrice de niveaux de gris.\n",
    "\n",
    "    :param image_path: Chemin de l'image à convertir.\n",
    "    :return: Matrice numpy représentant les niveaux de gris de l'image.\n",
    "    \"\"\"\n",
    "    # Charger l'image\n",
    "    image = Image.open(image_path)\n",
    "\n",
    "    # Convertir l'image en niveaux de gris si ce n'est pas déjà le cas\n",
    "    if image.mode != 'L':\n",
    "        image = image.convert('L')\n",
    "\n",
    "    # Convertir l'image en matrice numpy\n",
    "    image_matrix = np.array(image)\n",
    "\n",
    "    return image_matrix\n",
    "\n",
    "# Exemple d'utilisation\n",
    "image_path = 'chemin/vers/votre/image.jpg'\n",
    "gray_matrix = image_to_gray_matrix(image_path)\n",
    "\n",
    "print(gray_matrix)\n",
    "\n",
    "\n",
    "#On détermine le vecteur qui est le centre de gravité c0 de tous les vecteurs\n",
    "#On split ce vecteur en 2 vecteurs c01=c0+eps et c11=c0-eps\n",
    "#On classe tous les autres vecteurs de la base d'apprentissage relativement a ces 2 vecteurs en utilisant le critère de la distance euclienne minimale.\n",
    "#On obtient 2 classes de vecteurs. Pour chaque classe, on calcule le centre de gravité. les deux vecteurs obtenus remplacent c01 et c11.\n",
    "#On répète jusqu'a ce que la distortion moyenne devienne inferieure a un certain seuil\n",
    "#A la fin de l'étape précédente on obtient ainsi deux vecteurs qui sont les centres de gravité des deux classes. On split ces deux vecteurs selon la ligne 5 encore, on applique l'étape 3 à nouveau sur ces 2 vecteurs. on s'arrete quand le nombre voulu de vecteurs prototypes (la par exemple on en a 4).\n",
    "#Une fois le dictionnaire formé, on remplace chaque bloc de l'image par son protoype le plus proche au sens de la distance euclidienne."
   ]
  },
  {
   "cell_type": "code",
   "outputs": [],
   "source": [
    "#On sépare cette image en bloc de taille NxN\n",
    "def split_matrix_into_blocks(matrix, block_size):\n",
    "    \"\"\"\n",
    "    Sépare une matrice en blocs de taille NxN.\n",
    "\n",
    "    :param matrix: Matrice numpy à séparer.\n",
    "    :param block_size: Taille des blocs NxN.\n",
    "    :return: Liste de blocs de taille NxN.\n",
    "    \"\"\"\n",
    "    # Obtenir les dimensions de la matrice\n",
    "    rows, cols = matrix.shape\n",
    "\n",
    "    # Vérifier que la matrice peut être divisée en blocs de taille NxN\n",
    "    if rows % block_size != 0 or cols % block_size != 0:\n",
    "        raise ValueError(\"La taille de la matrice doit être un multiple de la taille des blocs.\")\n",
    "\n",
    "    # Initialiser la liste de blocs\n",
    "    blocks = []\n",
    "\n",
    "    # Séparer la matrice en blocs\n",
    "    for i in range(0, rows, block_size):\n",
    "        for j in range(0, cols, block_size):\n",
    "            block = matrix[i:i + block_size, j:j + block_size]\n",
    "            blocks.append(block)\n",
    "\n",
    "    return blocks\n"
   ],
   "metadata": {
    "collapsed": false
   },
   "id": "b70845226116f144"
  },
  {
   "cell_type": "code",
   "outputs": [],
   "source": [
    "#Chaque bloc est mappé en vecteur de dimension N²\n",
    "def block_to_vector(block):\n",
    "    \"\"\"\n",
    "    Transforme un block de taille N en un vecteur de dimension n² en empilant les colonnes.\n",
    "    \n",
    "    \"\"\"\n",
    "    # Vérifier que le block est carré\n",
    "    rows, cols = block.shape\n",
    "    if rows != cols:\n",
    "        raise ValueError(\"La matrice doit être carrée.\")\n",
    "\n",
    "    # Empiler les colonnes de la matrice l'une en dessous de l'autre\n",
    "    vector = matrix.T.flatten()\n",
    "\n",
    "    return vector\n",
    "\n",
    "def matrix_to_vectors(blocks_list):\n",
    "    matrix_list\n",
    "    for k in range(len(blocks_list)):\n",
    "        "
   ],
   "metadata": {
    "collapsed": false
   },
   "id": "a460d2292e14a4ff"
  }
 ],
 "metadata": {
  "kernelspec": {
   "display_name": "Python 3",
   "language": "python",
   "name": "python3"
  },
  "language_info": {
   "codemirror_mode": {
    "name": "ipython",
    "version": 2
   },
   "file_extension": ".py",
   "mimetype": "text/x-python",
   "name": "python",
   "nbconvert_exporter": "python",
   "pygments_lexer": "ipython2",
   "version": "2.7.6"
  }
 },
 "nbformat": 4,
 "nbformat_minor": 5
}
