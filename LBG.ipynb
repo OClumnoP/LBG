{
 "cells": [
  {
   "cell_type": "code",
   "execution_count": 10,
   "id": "initial_id",
   "metadata": {
    "collapsed": true,
    "ExecuteTime": {
     "end_time": "2024-06-05T14:24:39.417508600Z",
     "start_time": "2024-06-05T14:24:39.415500900Z"
    }
   },
   "outputs": [],
   "source": [
    "#On dispose d'une image d'entrée carrée en niveau de gris\n",
    "from PIL import Image\n",
    "import numpy as np\n",
    "\n",
    "def image_to_gray_matrix(image_path):\n",
    "    \"\"\"\n",
    "    Convertit une image en niveaux de gris en une matrice de niveaux de gris.\n",
    "\n",
    "    :param image_path: Chemin de l'image à convertir.\n",
    "    :return: Matrice numpy représentant les niveaux de gris de l'image.\n",
    "    \"\"\"\n",
    "    # Charger l'image\n",
    "    image = Image.open(image_path)\n",
    "\n",
    "    # Convertir l'image en niveaux de gris si ce n'est pas déjà le cas\n",
    "    if image.mode != 'L':\n",
    "        image = image.convert('L')\n",
    "\n",
    "    # Convertir l'image en matrice numpy\n",
    "    image_matrix = np.array(image)\n",
    "\n",
    "    return image_matrix\n",
    "\n",
    "\n",
    "#On répète jusqu'a ce que la distortion moyenne devienne inferieure a un certain seuil\n",
    "#A la fin de l'étape précédente on obtient ainsi deux vecteurs qui sont les centres de gravité des deux classes. On split ces deux vecteurs selon la ligne 5 encore, on applique l'étape 3 à nouveau sur ces 2 vecteurs. on s'arrete quand le nombre voulu de vecteurs prototypes (la par exemple on en a 4).\n",
    "#Une fois le dictionnaire formé, on remplace chaque bloc de l'image par son protoype le plus proche au sens de la distance euclidienne."
   ]
  },
  {
   "cell_type": "code",
   "outputs": [],
   "source": [
    "#On sépare cette image en bloc de taille NxN\n",
    "def split_matrix_into_blocks(matrix, block_size):\n",
    "    \"\"\"\n",
    "    Sépare une matrice en blocs de taille NxN.\n",
    "\n",
    "    :param matrix: Matrice numpy à séparer.\n",
    "    :param block_size: Taille des blocs NxN.\n",
    "    :return: Liste de blocs de taille NxN.\n",
    "    \"\"\"\n",
    "    # Obtenir les dimensions de la matrice\n",
    "    rows, cols = matrix.shape\n",
    "\n",
    "    # Vérifier que la matrice peut être divisée en blocs de taille NxN\n",
    "    if rows % block_size != 0 or cols % block_size != 0:\n",
    "        raise ValueError(\"La taille de la matrice doit être un multiple de la taille des blocs.\")\n",
    "\n",
    "    # Initialiser la liste de blocs\n",
    "    blocks = []\n",
    "\n",
    "    # Séparer la matrice en blocs\n",
    "    for i in range(0, rows, block_size):\n",
    "        for j in range(0, cols, block_size):\n",
    "            block = matrix[i:i + block_size, j:j + block_size]\n",
    "            blocks.append(block)\n",
    "\n",
    "    return blocks\n"
   ],
   "metadata": {
    "collapsed": false,
    "ExecuteTime": {
     "end_time": "2024-06-05T14:24:42.247424300Z",
     "start_time": "2024-06-05T14:24:42.245417300Z"
    }
   },
   "id": "b70845226116f144",
   "execution_count": 11
  },
  {
   "cell_type": "code",
   "outputs": [],
   "source": [
    "#Chaque bloc est mappé en vecteur de dimension N²\n",
    "def block_to_vector(block):\n",
    "    \"\"\"\n",
    "    Transforme un block de taille N en un vecteur de dimension n² en empilant les colonnes.\n",
    "    \n",
    "    \"\"\"\n",
    "    # Vérifier que le block est carré\n",
    "    rows, cols = block.shape\n",
    "    if rows != cols:\n",
    "        raise ValueError(\"La matrice doit être carrée.\")\n",
    "\n",
    "    # Empiler les colonnes de la matrice l'une en dessous de l'autre\n",
    "    vector = matrix.T.flatten()\n",
    "\n",
    "    return vector\n",
    "\n",
    "def matrix_to_vectors(matrix,block_size):\n",
    "    matrix_blocks = []\n",
    "    blocks_list = split_matrix_into_blocks()\n",
    "    for k in range(len(blocks_list)):\n",
    "        vector = block_to_vector(blocks_list[k])\n",
    "        matrix_blocks.append(vector)\n",
    "    return matrix_blocks"
   ],
   "metadata": {
    "collapsed": false
   },
   "id": "a460d2292e14a4ff"
  },
  {
   "cell_type": "code",
   "outputs": [],
   "source": [
    "#On détermine le vecteur qui est le centre de gravité c0 de tous les vecteurs\n",
    "def center_of_gravity(vectors):\n",
    "    \"\"\"\n",
    "    Détermine le centre de gravité d'une liste de vecteurs.\n",
    "\n",
    "    :param vectors: Liste de vecteurs numpy.\n",
    "    :return: Vecteur numpy représentant le centre de gravité.\n",
    "    \"\"\"\n",
    "    # Vérifier que la liste de vecteurs n'est pas vide\n",
    "    if len(vectors) == 0:\n",
    "        raise ValueError(\"La liste de vecteurs ne peut pas être vide.\")\n",
    "    \n",
    "    # Convertir la liste de vecteurs en une matrice numpy pour faciliter les opérations\n",
    "    vector_matrix = np.array(vectors)\n",
    "    \n",
    "    # Calculer la somme de tous les vecteurs\n",
    "    sum_vector = np.sum(vector_matrix, axis=0)\n",
    "    \n",
    "    # Calculer le centre de gravité en divisant par le nombre de vecteurs\n",
    "    center_vector = sum_vector / len(vectors)\n",
    "    \n",
    "    return center_vector"
   ],
   "metadata": {
    "collapsed": false
   },
   "id": "ed32aa9fb1a07428"
  },
  {
   "cell_type": "code",
   "outputs": [],
   "source": [
    "#On split ce vecteur en 2 vecteurs c01=c0+eps et c11=c0-eps\n",
    "def split_vector(vector,eps):\n",
    "    return vector+eps, vector-eps"
   ],
   "metadata": {
    "collapsed": false
   },
   "id": "eac6024a4fe70918"
  },
  {
   "cell_type": "code",
   "outputs": [],
   "source": [
    "#On classe tous les autres vecteurs de la base d'apprentissage relativement a ces 2 vecteurs en utilisant le critère de la distance euclienne minimale.\n",
    "def class_vector(vector, classes):\n",
    "    class = 0\n",
    "    dist_min = distance_euclienne(vector, classes[0])\n",
    "    for k in range(1, len(classes)):\n",
    "        if distance_euclienne(vector,classes[k])<dist_min:\n",
    "            dist_min = distance_euclienne(vector, classes[k])\n",
    "            class = k\n",
    "    return class\n",
    "        \n",
    "def distance_euclienne(v1, v2):\n",
    "    return np.linalg.norm(v1-v2)\n"
   ],
   "metadata": {
    "collapsed": false
   },
   "id": "d64c8461a66b7203"
  },
  {
   "cell_type": "code",
   "outputs": [],
   "source": [
    "#On obtient 2 classes de vecteurs. Pour chaque classe, on calcule le centre de gravité. les deux vecteurs obtenus remplacent c01 et c11.\n",
    "def distortion_moyenne(clusters, centers):\n",
    "    total_distortion = 0\n",
    "    total_vectors = 0\n",
    "\n",
    "    for cluster, center in zip(clusters, centers):\n",
    "        cluster = np.array(cluster)\n",
    "        center = np.array(center)\n",
    "\n",
    "        # Calcul de la distance entre chaque vecteur et son centre de gravité\n",
    "        distances = np.linalg.norm(cluster - center, axis=1) ** 2\n",
    "        total_distortion += np.sum(distances)\n",
    "        total_vectors += len(cluster)\n",
    "\n",
    "    mean_distortion = total_distortion / total_vectors\n",
    "    return mean_distortion"
   ],
   "metadata": {
    "collapsed": false
   },
   "id": "e028f9f0446d326d"
  },
  {
   "cell_type": "code",
   "outputs": [],
   "source": [
    "def LBG(image_path, N, delta, n): #N: taille de bloc voulue ; delta: distortion max threshold ; n: nombre voulu de vecteurs prototypes.\n",
    "    matrix = image_to_gray_matrix(image_path)\n",
    "    vectors = matrix_to_vectors(matrix,N)    \n",
    "    eps = np.random.uniform(0.0001, 0.0002, N**2)\n",
    "    c0 = center_of_gravity(vectors)\n",
    "    prototypes = [c0]\n",
    "    while len(prototypes) < n:\n",
    "        classes = []\n",
    "        for vector in prototypes:\n",
    "            classes.append(split(vector,eps))\n",
    "        mean_distortion_before = 0\n",
    "        mean_distortion_after = 0.1\n",
    "        while abs(mean_distortion_after - mean_distortion_before) >= delta:\n",
    "            clusters = [[] for k in range(len(classes))]\n",
    "            for vector in vectors:\n",
    "                clusters[class_vector(vector, classes)].append(vector)\n",
    "            centers = [[] for k in range(len(classes))]\n",
    "            for k in range(len(clusters)):\n",
    "                centers[k].append(center_of_gravity(clusters[k]))\n",
    "            mean_distortion_before = mean_distortion_after\n",
    "            mean_distortion_after = distortion_moyenne(clusters, centers)\n",
    "            prototypes = centers\n",
    "    for k in range(len(vectors)):\n",
    "        vectors[k] = prototypes[class_vector(vector, prototypes)]\n",
    "        "
   ],
   "metadata": {
    "collapsed": false
   },
   "id": "bb4c759d98a37a91"
  },
  {
   "cell_type": "code",
   "outputs": [
    {
     "name": "stdout",
     "output_type": "stream",
     "text": [
      "[[174 174 174 ... 123 123 123]\n",
      " [174 174 174 ... 123 123 123]\n",
      " [174 174 174 ... 123 123 123]\n",
      " ...\n",
      " [ 47  47  47 ...  27  27  27]\n",
      " [ 47  47  47 ...  27  27  27]\n",
      " [ 47  47  47 ...  27  27  27]]\n"
     ]
    }
   ],
   "source": [
    "matrix = image_to_gray_matrix(\"C:/Users/Axel/LBG/image_test.jpg\")\n",
    "print(matrix)"
   ],
   "metadata": {
    "collapsed": false,
    "ExecuteTime": {
     "end_time": "2024-06-05T14:24:56.303413300Z",
     "start_time": "2024-06-05T14:24:56.290794700Z"
    }
   },
   "id": "67844e8fa7b02513",
   "execution_count": 12
  },
  {
   "cell_type": "code",
   "outputs": [
    {
     "ename": "ValueError",
     "evalue": "La taille de la matrice doit être un multiple de la taille des blocs.",
     "output_type": "error",
     "traceback": [
      "\u001B[1;31m---------------------------------------------------------------------------\u001B[0m",
      "\u001B[1;31mValueError\u001B[0m                                Traceback (most recent call last)",
      "Cell \u001B[1;32mIn[16], line 1\u001B[0m\n\u001B[1;32m----> 1\u001B[0m blocks \u001B[38;5;241m=\u001B[39m split_matrix_into_blocks(matrix,\u001B[38;5;241m16\u001B[39m)\n\u001B[0;32m      2\u001B[0m \u001B[38;5;28mprint\u001B[39m(blocks)\n",
      "Cell \u001B[1;32mIn[11], line 15\u001B[0m, in \u001B[0;36msplit_matrix_into_blocks\u001B[1;34m(matrix, block_size)\u001B[0m\n\u001B[0;32m     13\u001B[0m \u001B[38;5;66;03m# Vérifier que la matrice peut être divisée en blocs de taille NxN\u001B[39;00m\n\u001B[0;32m     14\u001B[0m \u001B[38;5;28;01mif\u001B[39;00m rows \u001B[38;5;241m%\u001B[39m block_size \u001B[38;5;241m!=\u001B[39m \u001B[38;5;241m0\u001B[39m \u001B[38;5;129;01mor\u001B[39;00m cols \u001B[38;5;241m%\u001B[39m block_size \u001B[38;5;241m!=\u001B[39m \u001B[38;5;241m0\u001B[39m:\n\u001B[1;32m---> 15\u001B[0m     \u001B[38;5;28;01mraise\u001B[39;00m \u001B[38;5;167;01mValueError\u001B[39;00m(\u001B[38;5;124m\"\u001B[39m\u001B[38;5;124mLa taille de la matrice doit être un multiple de la taille des blocs.\u001B[39m\u001B[38;5;124m\"\u001B[39m)\n\u001B[0;32m     17\u001B[0m \u001B[38;5;66;03m# Initialiser la liste de blocs\u001B[39;00m\n\u001B[0;32m     18\u001B[0m blocks \u001B[38;5;241m=\u001B[39m []\n",
      "\u001B[1;31mValueError\u001B[0m: La taille de la matrice doit être un multiple de la taille des blocs."
     ]
    }
   ],
   "source": [
    "blocks = split_matrix_into_blocks(matrix,8)\n",
    "print(blocks)"
   ],
   "metadata": {
    "collapsed": false,
    "ExecuteTime": {
     "end_time": "2024-06-05T14:26:23.004365200Z",
     "start_time": "2024-06-05T14:26:22.983039300Z"
    }
   },
   "id": "8c8d5bc8be25e349",
   "execution_count": 16
  },
  {
   "cell_type": "code",
   "outputs": [],
   "source": [],
   "metadata": {
    "collapsed": false
   },
   "id": "629e07627128e0dd"
  }
 ],
 "metadata": {
  "kernelspec": {
   "display_name": "Python 3",
   "language": "python",
   "name": "python3"
  },
  "language_info": {
   "codemirror_mode": {
    "name": "ipython",
    "version": 2
   },
   "file_extension": ".py",
   "mimetype": "text/x-python",
   "name": "python",
   "nbconvert_exporter": "python",
   "pygments_lexer": "ipython2",
   "version": "2.7.6"
  }
 },
 "nbformat": 4,
 "nbformat_minor": 5
}
