{
 "cells": [
  {
   "cell_type": "code",
   "execution_count": 1,
   "id": "initial_id",
   "metadata": {
    "collapsed": true,
    "ExecuteTime": {
     "end_time": "2024-06-05T09:12:16.976246900Z",
     "start_time": "2024-06-05T09:12:16.672994100Z"
    }
   },
   "outputs": [
    {
     "name": "stdout",
     "output_type": "stream",
     "text": [
      "[[174 174 174 ... 123 123 123]\n",
      " [174 174 174 ... 123 123 123]\n",
      " [174 174 174 ... 123 123 123]\n",
      " ...\n",
      " [ 47  47  47 ...  27  27  27]\n",
      " [ 47  47  47 ...  27  27  27]\n",
      " [ 47  47  47 ...  27  27  27]]\n"
     ]
    }
   ],
   "source": [
    "#On dispose d'une image d'entrée carrée en niveau de gris\n",
    "from PIL import Image\n",
    "import numpy as np\n",
    "\n",
    "def image_to_gray_matrix(image_path):\n",
    "    \"\"\"\n",
    "    Convertit une image en niveaux de gris en une matrice de niveaux de gris.\n",
    "\n",
    "    :param image_path: Chemin de l'image à convertir.\n",
    "    :return: Matrice numpy représentant les niveaux de gris de l'image.\n",
    "    \"\"\"\n",
    "    # Charger l'image\n",
    "    image = Image.open(image_path)\n",
    "\n",
    "    # Convertir l'image en niveaux de gris si ce n'est pas déjà le cas\n",
    "    if image.mode != 'L':\n",
    "        image = image.convert('L')\n",
    "\n",
    "    # Convertir l'image en matrice numpy\n",
    "    image_matrix = np.array(image)\n",
    "\n",
    "    return image_matrix\n",
    "\n",
    "# Exemple d'utilisation\n",
    "image_path = 'chemin/vers/votre/image.jpg'\n",
    "gray_matrix = image_to_gray_matrix(image_path)\n",
    "\n",
    "print(gray_matrix)\n",
    "\n",
    "\n",
    "\n",
    "\n",
    "\n",
    "\n",
    "#On répète jusqu'a ce que la distortion moyenne devienne inferieure a un certain seuil\n",
    "#A la fin de l'étape précédente on obtient ainsi deux vecteurs qui sont les centres de gravité des deux classes. On split ces deux vecteurs selon la ligne 5 encore, on applique l'étape 3 à nouveau sur ces 2 vecteurs. on s'arrete quand le nombre voulu de vecteurs prototypes (la par exemple on en a 4).\n",
    "#Une fois le dictionnaire formé, on remplace chaque bloc de l'image par son protoype le plus proche au sens de la distance euclidienne."
   ]
  },
  {
   "cell_type": "code",
   "outputs": [],
   "source": [
    "#On sépare cette image en bloc de taille NxN\n",
    "def split_matrix_into_blocks(matrix, block_size):\n",
    "    \"\"\"\n",
    "    Sépare une matrice en blocs de taille NxN.\n",
    "\n",
    "    :param matrix: Matrice numpy à séparer.\n",
    "    :param block_size: Taille des blocs NxN.\n",
    "    :return: Liste de blocs de taille NxN.\n",
    "    \"\"\"\n",
    "    # Obtenir les dimensions de la matrice\n",
    "    rows, cols = matrix.shape\n",
    "\n",
    "    # Vérifier que la matrice peut être divisée en blocs de taille NxN\n",
    "    if rows % block_size != 0 or cols % block_size != 0:\n",
    "        raise ValueError(\"La taille de la matrice doit être un multiple de la taille des blocs.\")\n",
    "\n",
    "    # Initialiser la liste de blocs\n",
    "    blocks = []\n",
    "\n",
    "    # Séparer la matrice en blocs\n",
    "    for i in range(0, rows, block_size):\n",
    "        for j in range(0, cols, block_size):\n",
    "            block = matrix[i:i + block_size, j:j + block_size]\n",
    "            blocks.append(block)\n",
    "\n",
    "    return blocks\n"
   ],
   "metadata": {
    "collapsed": false
   },
   "id": "b70845226116f144"
  },
  {
   "cell_type": "code",
   "outputs": [],
   "source": [
    "#Chaque bloc est mappé en vecteur de dimension N²\n",
    "def block_to_vector(block):\n",
    "    \"\"\"\n",
    "    Transforme un block de taille N en un vecteur de dimension n² en empilant les colonnes.\n",
    "    \n",
    "    \"\"\"\n",
    "    # Vérifier que le block est carré\n",
    "    rows, cols = block.shape\n",
    "    if rows != cols:\n",
    "        raise ValueError(\"La matrice doit être carrée.\")\n",
    "\n",
    "    # Empiler les colonnes de la matrice l'une en dessous de l'autre\n",
    "    vector = matrix.T.flatten()\n",
    "\n",
    "    return vector\n",
    "\n",
    "def matrix_to_vectors(matrix,block_size):\n",
    "    matrix_blocks = []\n",
    "    blocks_list = split_matrix_into_blocks()\n",
    "    for k in range(len(blocks_list)):\n",
    "        vector = block_to_vector(blocks_list[k])\n",
    "        matrix_blocks.append(vector)\n",
    "    return matrix_blocks"
   ],
   "metadata": {
    "collapsed": false
   },
   "id": "a460d2292e14a4ff"
  },
  {
   "cell_type": "code",
   "outputs": [],
   "source": [
    "#On détermine le vecteur qui est le centre de gravité c0 de tous les vecteurs\n",
    "def center_of_gravity(vectors):\n",
    "    \"\"\"\n",
    "    Détermine le centre de gravité d'une liste de vecteurs.\n",
    "\n",
    "    :param vectors: Liste de vecteurs numpy.\n",
    "    :return: Vecteur numpy représentant le centre de gravité.\n",
    "    \"\"\"\n",
    "    # Vérifier que la liste de vecteurs n'est pas vide\n",
    "    if len(vectors) == 0:\n",
    "        raise ValueError(\"La liste de vecteurs ne peut pas être vide.\")\n",
    "    \n",
    "    # Convertir la liste de vecteurs en une matrice numpy pour faciliter les opérations\n",
    "    vector_matrix = np.array(vectors)\n",
    "    \n",
    "    # Calculer la somme de tous les vecteurs\n",
    "    sum_vector = np.sum(vector_matrix, axis=0)\n",
    "    \n",
    "    # Calculer le centre de gravité en divisant par le nombre de vecteurs\n",
    "    center_vector = sum_vector / len(vectors)\n",
    "    \n",
    "    return center_vector"
   ],
   "metadata": {
    "collapsed": false
   },
   "id": "ed32aa9fb1a07428"
  },
  {
   "cell_type": "code",
   "outputs": [],
   "source": [
    "#On split ce vecteur en 2 vecteurs c01=c0+eps et c11=c0-eps\n",
    "def split_vector(vector,eps):\n",
    "    return vector+eps, vector-eps"
   ],
   "metadata": {
    "collapsed": false
   },
   "id": "eac6024a4fe70918"
  },
  {
   "cell_type": "code",
   "outputs": [],
   "source": [
    "#On classe tous les autres vecteurs de la base d'apprentissage relativement a ces 2 vecteurs en utilisant le critère de la distance euclienne minimale.\n",
    "def class_vector(vector, c01, c11):\n",
    "    if distance_euclienne(vector, class1)<=distance_euclienne(vector, class2):\n",
    "        return class1\n",
    "    else:\n",
    "        return class2\n",
    "    \n",
    "def distance_euclienne(v1, v2):\n",
    "    return np.linalg.norm(v1-v2)\n"
   ],
   "metadata": {
    "collapsed": false
   },
   "id": "d64c8461a66b7203"
  },
  {
   "cell_type": "code",
   "outputs": [],
   "source": [
    "#On obtient 2 classes de vecteurs. Pour chaque classe, on calcule le centre de gravité. les deux vecteurs obtenus remplacent c01 et c11.\n",
    "def average_distortion_between_centroids(vectors1, centroid1, vectors2, centroid2):\n",
    "    \"\"\"\n",
    "    Calcule la distortion moyenne entre deux ensembles de vecteurs par rapport à leurs centres de gravité respectifs.\n",
    "\n",
    "    Args:\n",
    "        vectors1 (list): Une liste de vecteurs représentés sous forme de listes ou de tableaux numpy pour le premier ensemble.\n",
    "        centroid1 (array-like): Le centre de gravité du premier ensemble de vecteurs.\n",
    "        vectors2 (list): Une liste de vecteurs représentés sous forme de listes ou de tableaux numpy pour le deuxième ensemble.\n",
    "        centroid2 (array-like): Le centre de gravité du deuxième ensemble de vecteurs.\n",
    "\n",
    "    Returns:\n",
    "        float: La distortion moyenne entre les deux ensembles de vecteurs par rapport à leurs centres de gravité respectifs.\n",
    "    \"\"\"\n",
    "    # Convertir les listes de vecteurs en tableaux numpy pour un traitement plus efficace\n",
    "    vectors1 = np.array(vectors1)\n",
    "    vectors2 = np.array(vectors2)\n",
    "    \n",
    "    # Calculer les distances de chaque vecteur par rapport à leur centre de gravité respectif\n",
    "    distances1 = np.linalg.norm(vectors1 - centroid1, axis=1)\n",
    "    distances2 = np.linalg.norm(vectors2 - centroid2, axis=1)\n",
    "    \n",
    "    # Calculer la distortion moyenne entre les deux ensembles de vecteurs\n",
    "    average_distortion = np.mean(np.concatenate((distances1, distances2)))\n",
    "    \n",
    "    return average_distortion"
   ],
   "metadata": {
    "collapsed": false
   },
   "id": "e028f9f0446d326d"
  },
  {
   "cell_type": "code",
   "outputs": [],
   "source": [
    "def LBG(image_path, N, delta, n): #N: taille de bloc voulue ; delta: distortion max threshold ; n: nombre voulu de vecteurs prototypes.\n",
    "    matrix = image_to_gray_matrix(image_path)\n",
    "    vectors = matrix_to_vectors(matrix,N)    \n",
    "    eps = np.random.uniform(0.0001, 0.0002, np.sqrt(N))\n",
    "    c0 = center_of_gravity(vectors)\n",
    "    prototypes = [c0]\n",
    "    while len(prototypes) < n:\n",
    "        c01, c11 = split_vector(c0,eps)\n",
    "        mean_distortion = 1\n",
    "        while mean_distortion >= delta:\n",
    "            class0 = []\n",
    "            class1 = []\n",
    "            for k in range(len(vectors)):\n",
    "            if class_vector(vectors[k], c01, c11)==c01:\n",
    "                class0.append(vectors[k])\n",
    "            else:\n",
    "                class1.append(vectors[k])\n",
    "            center_class0 = center_of_gravity(class0)\n",
    "            center_class1 = center_of_gravity(class1)\n",
    "            mean_distortion = average_distortion_between_centroids(class0, center_class0, class1, center_class1)\n",
    "            c01 = center_class0\n",
    "            c11 = center_class1"
   ],
   "metadata": {
    "collapsed": false
   },
   "id": "bb4c759d98a37a91"
  }
 ],
 "metadata": {
  "kernelspec": {
   "display_name": "Python 3",
   "language": "python",
   "name": "python3"
  },
  "language_info": {
   "codemirror_mode": {
    "name": "ipython",
    "version": 2
   },
   "file_extension": ".py",
   "mimetype": "text/x-python",
   "name": "python",
   "nbconvert_exporter": "python",
   "pygments_lexer": "ipython2",
   "version": "2.7.6"
  }
 },
 "nbformat": 4,
 "nbformat_minor": 5
}
