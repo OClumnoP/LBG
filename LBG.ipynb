{
 "cells": [
  {
   "cell_type": "code",
   "execution_count": 297,
   "id": "initial_id",
   "metadata": {
    "collapsed": true,
    "ExecuteTime": {
     "end_time": "2024-06-12T16:03:06.695844300Z",
     "start_time": "2024-06-12T16:03:06.623221300Z"
    }
   },
   "outputs": [],
   "source": [
    "from PIL import Image\n",
    "import numpy as np\n",
    "import cv2\n",
    "#image_to_gray_matrix converti une image en une matrice de niveau de gris\n",
    "def image_to_gray_matrix(image_path):\n",
    "    #Charge l'image à partir de son chemin\n",
    "    image = Image.open(image_path)\n",
    "    #Vérifie si l'image n'est pas déja en niveau de gris ; sinon, elle la converti\n",
    "    if image.mode != 'L':\n",
    "        image = image.convert('L')\n",
    "    #Converti l'image en niveau de gris vers une matrice de niveau de gris et retourne cette matrice\n",
    "    image_matrix = np.array(image)\n",
    "    return image_matrix"
   ]
  },
  {
   "cell_type": "code",
   "outputs": [],
   "source": [
    "#Prend en entrée une matrice, la décompose en bloc de taille NxN, mappe chaque bloc en un vecteur, et retourne la liste des vecteurs associés\n",
    "def matrice_en_blocs_colonnes(matrice, N):\n",
    "    # Vérification des dimensions de la matrice\n",
    "    if matrice.shape[0] % N != 0 or matrice.shape[1] % N != 0:\n",
    "        raise ValueError(\"La taille de la matrice doit être un multiple de N\")\n",
    "    \n",
    "    # Initialiser la liste des vecteurs\n",
    "    vecteurs = []\n",
    "    \n",
    "    # Parcourir la matrice par blocs de taille NxN\n",
    "    for i in range(0, matrice.shape[0], N):\n",
    "        for j in range(0, matrice.shape[1], N):\n",
    "            # Extraire le bloc\n",
    "            bloc = matrice[i:i+N, j:j+N]\n",
    "            # Convertir le bloc en vecteur en empilant les colonnes\n",
    "            vecteur = bloc.T.flatten()\n",
    "            # Ajouter le vecteur à la liste\n",
    "            vecteurs.append(vecteur)\n",
    "    \n",
    "    return vecteurs"
   ],
   "metadata": {
    "collapsed": false,
    "ExecuteTime": {
     "end_time": "2024-06-12T16:03:06.697840200Z",
     "start_time": "2024-06-12T16:03:06.640965600Z"
    }
   },
   "id": "a460d2292e14a4ff",
   "execution_count": 298
  },
  {
   "cell_type": "code",
   "outputs": [],
   "source": [
    "#Retourne le centre de gravité (un vecteur) d'une liste de vecteurs.\n",
    "def center_of_gravity(vectors):\n",
    "   \n",
    "    # Calculer la somme de tous les vecteurs\n",
    "    sum_vector = np.sum(vectors, axis=0)\n",
    "    \n",
    "    # Calculer le centre de gravité en divisant par le nombre de vecteurs\n",
    "    center_vector = sum_vector / vectors.shape[0]\n",
    "    \n",
    "    return center_vector"
   ],
   "metadata": {
    "collapsed": false,
    "ExecuteTime": {
     "end_time": "2024-06-12T16:03:06.722188500Z",
     "start_time": "2024-06-12T16:03:06.705580600Z"
    }
   },
   "id": "ed32aa9fb1a07428",
   "execution_count": 299
  },
  {
   "cell_type": "code",
   "outputs": [],
   "source": [
    "#Prend en entrée un vecteur, et retourne une liste de deux vecteurs déplacés de eps. (eps est un petit vecteur de la meme dimension que vector)\n",
    "def split_vector(vector,eps):\n",
    "    return [vector+eps, vector-eps]"
   ],
   "metadata": {
    "collapsed": false,
    "ExecuteTime": {
     "end_time": "2024-06-12T16:03:06.754209600Z",
     "start_time": "2024-06-12T16:03:06.728893800Z"
    }
   },
   "id": "eac6024a4fe70918",
   "execution_count": 300
  },
  {
   "cell_type": "code",
   "outputs": [],
   "source": [
    "#Renvoie la distance euclienne entre deux vecteurs v1 et v2\n",
    "def distance_euclienne(v1, v2):\n",
    "    return np.linalg.norm(v1 - v2)"
   ],
   "metadata": {
    "collapsed": false,
    "ExecuteTime": {
     "end_time": "2024-06-12T16:03:06.756200300Z",
     "start_time": "2024-06-12T16:03:06.744694700Z"
    }
   },
   "id": "ae2a34efd874eef7",
   "execution_count": 301
  },
  {
   "cell_type": "code",
   "outputs": [],
   "source": [
    "#À partir d'un vecteur et d'une liste de classes, cette fonction renvoie l'indice (dans la liste classes) de la classe à laquelle appartient ce vecteur, selon le critère de la minimisation de la norme euclidiennne\n",
    "def class_vector(vector, classes):\n",
    "    class_v = 0\n",
    "    dist_min = distance_euclienne(vector, classes[0])\n",
    "    for k in range(1, len(classes)):\n",
    "        if distance_euclienne(vector,classes[k])<dist_min:\n",
    "            dist_min = distance_euclienne(vector, classes[k])\n",
    "            class_v = k\n",
    "    return class_v"
   ],
   "metadata": {
    "collapsed": false,
    "ExecuteTime": {
     "end_time": "2024-06-12T16:03:06.797144Z",
     "start_time": "2024-06-12T16:03:06.765347800Z"
    }
   },
   "id": "d64c8461a66b7203",
   "execution_count": 302
  },
  {
   "cell_type": "code",
   "outputs": [],
   "source": [
    "#Prend en entree un ensemble de clusters, chaque clusters contenant des vecteurs, la liste de leurs centres de gravité associés centers. Calcule la distortion moyenne sur l'ensemble des clusters par rapport à leur centre de gravité respectif.\n",
    "def distortion_moyenne(clusters, centers):\n",
    "    total_distortion = 0\n",
    "    total_vectors = 0\n",
    "    nb_clusters = clusters.shape[0] #nombre de clusters\n",
    "    for k in range(nb_clusters): #Parcours chaque cluster\n",
    "        cluster = clusters[k]\n",
    "        center = centers[k] #le centre de gravité associé au cluster k\n",
    "        \n",
    "        for vector in cluster: #parcours l'ensemble des vecteurs contenus dans le cluster k et calcule la distortion moyenne sur celui ci\n",
    "            if not np.all(vector == 0):  # Ignore les vecteurs nuls, car on travaille avec des tableaux numpy de taille non modulables\n",
    "                distance = np.linalg.norm(vector - center) ** 2\n",
    "                total_distortion += distance\n",
    "                total_vectors += 1 #compte le nombre de vecteurs intervenants dans le calcul de la distortion\n",
    "\n",
    "    if total_vectors == 0:\n",
    "        return 0  # Evite la division par zero. Si tous les vecteurs sont nuls, alors les centre de gravité sont tous nuls et la distortion est nulle\n",
    "    \n",
    "    average_distortion = total_distortion / total_vectors\n",
    "    return average_distortion"
   ],
   "metadata": {
    "collapsed": false,
    "ExecuteTime": {
     "end_time": "2024-06-12T16:03:06.799143900Z",
     "start_time": "2024-06-12T16:03:06.782362Z"
    }
   },
   "id": "e028f9f0446d326d",
   "execution_count": 303
  },
  {
   "cell_type": "code",
   "outputs": [],
   "source": [
    "#Effectue l'opération inverse du formattage. La fonction remappe les vecteurs en blocs, merge les blocs en une matrice de niveau de gris, puis converti en image cette matrice. On ne peux pas remonter à l'image en couleur pour l'instant\n",
    "def vecteurs_en_image(vecteurs, largeur, hauteur, N, n):\n",
    "    # Vérification des dimensions\n",
    "    if largeur % N != 0 or hauteur % N != 0:\n",
    "        raise ValueError(\"La largeur et la hauteur doivent être des multiples de N\")\n",
    "    \n",
    "    # Initialiser une matrice de zéros pour l'image\n",
    "    image = np.zeros((hauteur, largeur), dtype=np.uint8)\n",
    "    \n",
    "    # Calculer le nombre de blocs par ligne et par colonne\n",
    "    nb_blocs_ligne = largeur // N\n",
    "    nb_blocs_colonne = hauteur // N\n",
    "    \n",
    "    # Parcourir les vecteurs\n",
    "    idx_vecteur = 0\n",
    "    for i in range(nb_blocs_colonne):\n",
    "        for j in range(nb_blocs_ligne):\n",
    "            # Extraire le vecteur\n",
    "            vecteur = vecteurs[idx_vecteur]\n",
    "            # Reshape pour revenir à la forme de bloc NxN\n",
    "            bloc = vecteur.reshape(N, N)\n",
    "            # Remplacer les pixels dans l'image\n",
    "            image[i*N:(i+1)*N, j*N:(j+1)*N] = bloc\n",
    "            idx_vecteur += 1\n",
    "    \n",
    "    # Enregistrer l'image\n",
    "    nom_fichier = \"C:/Users/Axel/LBG/results/\" + str(N) + \"x\" + str(N) + \"/reconstructed_image_\" + str(N) + \"x\" + str(N) + \"_\" + str(n) + \".jpg\"\n",
    "    cv2.imwrite(nom_fichier, image)\n",
    "\n",
    "    return image"
   ],
   "metadata": {
    "collapsed": false,
    "ExecuteTime": {
     "end_time": "2024-06-12T16:03:06.827899Z",
     "start_time": "2024-06-12T16:03:06.808145800Z"
    }
   },
   "id": "e94d91532c422ba4",
   "execution_count": 304
  },
  {
   "cell_type": "code",
   "outputs": [],
   "source": [
    "#Fonction principale. Prend en entrée un chemin d'image, la taille de bloc voulue (typiquement 8x8 ou 16x16), le seuil de convergence voulu pour la décroissance de la distortion et le nombre de protoypes voulu pour le codebook.\n",
    "def LBG(image_path, N, delta, n): #N: taille de bloc voulue ; delta: distortion decrease max threshold ; n: nombre voulu de vecteurs prototypes (multiple de 2).\n",
    "    matrix = image_to_gray_matrix(image_path) # Charge l'image\n",
    "    img_size = matrix.shape[0] #On ne considère que des images carrés (pour la décomposition en bloc carrés)\n",
    "    vectors = matrice_en_blocs_colonnes(matrix,N) #La converti en vecteurs de niveau de gris\n",
    "    vectors_array=np.array(vectors) #Converti la liste des vecteurs en un tableau pour faciliter les opérations\n",
    "    vector_size = vectors_array.shape[1]\n",
    "    nb_vectors = vectors_array.shape[0]\n",
    "    eps = np.random.uniform(0.0001, 0.0002, N*N) #Défini le petit vecteur de deplacement epsilon\n",
    "    c0 = center_of_gravity(vectors_array) #Initialise le centre de gravité de ma liste de vecteurs\n",
    "    prototypes = [c0] #Initialise le dictionnaire\n",
    "    while len(prototypes) < n: #Répéter jusqu'à obtenir assez de vecteurs prototypes \n",
    "        classes = [] #On initialise la liste des classes\n",
    "        for vector in prototypes: #On va diviser chaque vecteur prototype en deux vecteurs\n",
    "            classes.append(split_vector(vector,eps)[0])\n",
    "            classes.append(split_vector(vector,eps)[1])\n",
    "        nb_classes = len(classes)\n",
    "        mean_distortion_before = 0 #On initialise les distortions de sorte à pouvoir entrer dans la boucle while\n",
    "        mean_distortion_after = 0.1\n",
    "        mean_distortion_dec = abs(mean_distortion_after - mean_distortion_before)\n",
    "        while mean_distortion_dec >= delta: #Jusqu'à ce que la décroissance de la distortion moyenne descende en dessous du seuil fixé\n",
    "            clusters = np.zeros((nb_classes,nb_vectors,vector_size)) #On initialise un tableau à 3 dimension. Il y'a autant de couches qu'il y'a de classses possibles ; cela permet de classer les vecteurs de l'image dans la classe qui convient. Au sein d'une couche (un cluster), chaque ligne correspond à un vecteur. 7\n",
    "            for vector in vectors_array: #On va classer chaque vecteurs dans un cluster, selon la classe à laquelle il appartient\n",
    "                classe = class_vector(vector, classes)\n",
    "                for i in range(nb_vectors):\n",
    "                    if np.all(clusters[classe][i] == 0): #On cherche la première position libre dans le cluster numéro i\n",
    "                        clusters[classe][i] = vector #On a trouvé cette position, on peut y mettre notre vecteur\n",
    "                        break  # Sortir de la boucle dès qu'une position libre est trouvée\n",
    "            centers = np.zeros((nb_classes,vector_size))\n",
    "            for k in range(nb_classes): #On calcule le centre de gravité de chaque cluster, on les stocke dans un tableau 2D de vecteurs (chaque centre de gravité est un vecteur)\n",
    "                centers[k] = center_of_gravity(clusters[k])\n",
    "            mean_distortion_before = mean_distortion_after #On retient l'ancinne distortion moyenne\n",
    "            mean_distortion_after = distortion_moyenne(clusters, centers) #On calcule la nouvelle, pour accéder à la décroissance\n",
    "            mean_distortion_dec = abs(mean_distortion_after - mean_distortion_before)\n",
    "            print(mean_distortion_dec)\n",
    "            prototypes = centers #On met à jour le dictionnaire de prototypes, en remplacant chaque prototype par le centre de gravité du cluster associé à ce prototype\n",
    "    #print(prototypes)\n",
    "    for k in range(nb_vectors): #On parcours la liste des vecteurs de l'image de départ\n",
    "        vectors_array[k] = prototypes[class_vector(vectors_array[k], prototypes)] #On remplace chaque vecteur par son prototype le plus proche, au sens de la distance euclidienne\n",
    "    reconstructed_image = vecteurs_en_image(vectors_array,img_size,img_size,N, n) #On reconstruit l'image obtenue à partir des vecteurs\n",
    "    return reconstructed_image #On retourne la matrice de niveau de gris reconstruite"
   ],
   "metadata": {
    "collapsed": false,
    "ExecuteTime": {
     "end_time": "2024-06-12T16:03:06.829898500Z",
     "start_time": "2024-06-12T16:03:06.823357100Z"
    }
   },
   "id": "bb4c759d98a37a91",
   "execution_count": 305
  },
  {
   "cell_type": "code",
   "outputs": [
    {
     "name": "stdout",
     "output_type": "stream",
     "text": [
      "2268061.2082825205\n",
      "0.0\n",
      "1822172.9957815497\n",
      "0.0\n",
      "2073854.2447225074\n",
      "0.0\n",
      "1964483.1107490747\n",
      "0.0\n",
      "2009601.9343224992\n",
      "0.0\n",
      "1993543.1511918022\n",
      "0.0\n",
      "2001033.7547417642\n",
      "0.0\n",
      "1993543.1511918022\n",
      "0.0\n"
     ]
    },
    {
     "data": {
      "text/plain": "array([[112, 113, 113, ..., 113, 112, 111],\n       [112, 113, 114, ..., 113, 112, 111],\n       [113, 113, 114, ..., 113, 112, 111],\n       ...,\n       [113, 114, 115, ..., 113, 112, 111],\n       [113, 114, 114, ..., 113, 112, 111],\n       [113, 113, 114, ..., 112, 111, 110]], dtype=uint8)"
     },
     "execution_count": 306,
     "metadata": {},
     "output_type": "execute_result"
    }
   ],
   "source": [
    "#for prototypes_nb in [1,2,4,8,16,32,64,128,256,512,1024,2048]:\n",
    "   # LBG(\"C:/Users/Axel/LBG/test.jpg\",16,0.0001,prototypes_nb)\n",
    "LBG(\"C:/Users/Axel/LBG/test.jpg\",16,0.01,256)"
   ],
   "metadata": {
    "collapsed": false,
    "ExecuteTime": {
     "end_time": "2024-06-12T16:03:49.101474300Z",
     "start_time": "2024-06-12T16:03:06.830908200Z"
    }
   },
   "id": "da28b01f53f7bc87",
   "execution_count": 306
  },
  {
   "cell_type": "code",
   "outputs": [],
   "source": [],
   "metadata": {
    "collapsed": false,
    "ExecuteTime": {
     "end_time": "2024-06-12T16:03:49.102464Z",
     "start_time": "2024-06-12T16:03:49.098940900Z"
    }
   },
   "id": "cc0a9b3ab22c23cb",
   "execution_count": 306
  }
 ],
 "metadata": {
  "kernelspec": {
   "display_name": "Python 3",
   "language": "python",
   "name": "python3"
  },
  "language_info": {
   "codemirror_mode": {
    "name": "ipython",
    "version": 2
   },
   "file_extension": ".py",
   "mimetype": "text/x-python",
   "name": "python",
   "nbconvert_exporter": "python",
   "pygments_lexer": "ipython2",
   "version": "2.7.6"
  }
 },
 "nbformat": 4,
 "nbformat_minor": 5
}
