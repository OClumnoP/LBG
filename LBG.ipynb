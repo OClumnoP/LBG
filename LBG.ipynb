{
 "cells": [
  {
   "cell_type": "code",
   "execution_count": 95,
   "id": "initial_id",
   "metadata": {
    "collapsed": true,
    "ExecuteTime": {
     "end_time": "2024-06-05T15:15:42.192011300Z",
     "start_time": "2024-06-05T15:15:42.188189900Z"
    }
   },
   "outputs": [],
   "source": [
    "#On dispose d'une image d'entrée carrée en niveau de gris\n",
    "from PIL import Image\n",
    "import numpy as np\n",
    "\n",
    "def image_to_gray_matrix(image_path):\n",
    "    \"\"\"\n",
    "    Convertit une image en niveaux de gris en une matrice de niveaux de gris.\n",
    "\n",
    "    :param image_path: Chemin de l'image à convertir.\n",
    "    :return: Matrice numpy représentant les niveaux de gris de l'image.\n",
    "    \"\"\"\n",
    "    # Charger l'image\n",
    "    image = Image.open(image_path)\n",
    "\n",
    "    # Convertir l'image en niveaux de gris si ce n'est pas déjà le cas\n",
    "    if image.mode != 'L':\n",
    "        image = image.convert('L')\n",
    "\n",
    "    # Convertir l'image en matrice numpy\n",
    "    image_matrix = np.array(image)\n",
    "\n",
    "    return image_matrix\n",
    "\n",
    "\n",
    "#On répète jusqu'a ce que la distortion moyenne devienne inferieure a un certain seuil\n",
    "#A la fin de l'étape précédente on obtient ainsi deux vecteurs qui sont les centres de gravité des deux classes. On split ces deux vecteurs selon la ligne 5 encore, on applique l'étape 3 à nouveau sur ces 2 vecteurs. on s'arrete quand le nombre voulu de vecteurs prototypes (la par exemple on en a 4).\n",
    "#Une fois le dictionnaire formé, on remplace chaque bloc de l'image par son protoype le plus proche au sens de la distance euclidienne."
   ]
  },
  {
   "cell_type": "code",
   "outputs": [
    {
     "name": "stdout",
     "output_type": "stream",
     "text": [
      "(262144,)\n",
      "[207. 207. 207. ...  76.  80.  91.]\n"
     ]
    }
   ],
   "source": [
    "#On sépare cette image en bloc de taille NxN\n",
    "def split_matrix_into_blocks(matrix, block_size):\n",
    "    \"\"\"\n",
    "    Sépare une matrice en blocs de taille NxN.\n",
    "\n",
    "    :param matrix: Matrice numpy à séparer.\n",
    "    :param block_size: Taille des blocs NxN.\n",
    "    :return: Liste de blocs de taille NxN.\n",
    "    \"\"\"\n",
    "    # Obtenir les dimensions de la matrice\n",
    "    rows, cols = matrix.shape\n",
    "\n",
    "    # Vérifier que la matrice peut être divisée en blocs de taille NxN\n",
    "    if rows % block_size != 0 or cols % block_size != 0:\n",
    "        raise ValueError(\"La taille de la matrice doit être un multiple de la taille des blocs.\")\n",
    "\n",
    "    # Initialiser la liste de blocs\n",
    "    blocks = []\n",
    "\n",
    "    # Séparer la matrice en blocs\n",
    "    for i in range(0, rows, block_size):\n",
    "        for j in range(0, cols, block_size):\n",
    "            block = matrix[i:i + block_size, j:j + block_size]\n",
    "            blocks.append(block)\n",
    "\n",
    "    return blocks\n",
    "\n",
    "blocks_array = np.array(blocks)\n",
    "print(blocks_array.shape)\n",
    "print(blocks_array)\n"
   ],
   "metadata": {
    "collapsed": false,
    "ExecuteTime": {
     "end_time": "2024-06-05T15:37:47.362896400Z",
     "start_time": "2024-06-05T15:37:47.355306100Z"
    }
   },
   "id": "b70845226116f144",
   "execution_count": 112
  },
  {
   "cell_type": "code",
   "outputs": [],
   "source": [
    "#Chaque bloc est mappé en vecteur de dimension N²\n",
    "def block_to_vector(block):\n",
    "    \"\"\"\n",
    "    Transforme un block de taille N en un vecteur de dimension n² en empilant les colonnes.\n",
    "    \n",
    "    \"\"\"\n",
    "    # Vérifier que le block est carré\n",
    "    rows, cols = block.shape\n",
    "    if rows != cols:\n",
    "        raise ValueError(\"La matrice doit être carrée.\")\n",
    "\n",
    "    # Empiler les colonnes de la matrice l'une en dessous de l'autre\n",
    "    vector = matrix.T.flatten()\n",
    "\n",
    "    return vector\n",
    "\n",
    "def matrix_to_vectors(matrix,N):\n",
    "    matrix_blocks = []\n",
    "    blocks_list = split_matrix_into_blocks(matrix,N)\n",
    "    for k in range(len(blocks_list)):\n",
    "        vector = block_to_vector(blocks_list[k])\n",
    "        matrix_blocks.append(vector)\n",
    "    return matrix_blocks"
   ],
   "metadata": {
    "collapsed": false,
    "ExecuteTime": {
     "end_time": "2024-06-05T15:15:42.200213600Z",
     "start_time": "2024-06-05T15:15:42.197663400Z"
    }
   },
   "id": "a460d2292e14a4ff",
   "execution_count": 97
  },
  {
   "cell_type": "code",
   "outputs": [],
   "source": [
    "#On détermine le vecteur qui est le centre de gravité c0 de tous les vecteurs\n",
    "def center_of_gravity(vectors):\n",
    "    \"\"\"\n",
    "    Détermine le centre de gravité d'une liste de vecteurs.\n",
    "\n",
    "    :param vectors: Liste de vecteurs numpy.\n",
    "    :return: Vecteur numpy représentant le centre de gravité.\n",
    "    \"\"\"\n",
    "    # Vérifier que la liste de vecteurs n'est pas vide\n",
    "    if len(vectors) == 0:\n",
    "        raise ValueError(\"La liste de vecteurs ne peut pas être vide.\")\n",
    "    \n",
    "    # Convertir la liste de vecteurs en une matrice numpy pour faciliter les opérations\n",
    "    vector_matrix = np.array(vectors)\n",
    "    \n",
    "    # Calculer la somme de tous les vecteurs\n",
    "    sum_vector = np.sum(vector_matrix, axis=0)\n",
    "    \n",
    "    # Calculer le centre de gravité en divisant par le nombre de vecteurs\n",
    "    center_vector = sum_vector / len(vectors)\n",
    "    \n",
    "    return center_vector"
   ],
   "metadata": {
    "collapsed": false,
    "ExecuteTime": {
     "end_time": "2024-06-05T15:15:42.209173300Z",
     "start_time": "2024-06-05T15:15:42.201215800Z"
    }
   },
   "id": "ed32aa9fb1a07428",
   "execution_count": 98
  },
  {
   "cell_type": "code",
   "outputs": [],
   "source": [
    "#On split ce vecteur en 2 vecteurs c01=c0+eps et c11=c0-eps\n",
    "def split_vector(vector,eps):\n",
    "    return [vector+eps, vector-eps]"
   ],
   "metadata": {
    "collapsed": false,
    "ExecuteTime": {
     "end_time": "2024-06-05T15:15:42.229275600Z",
     "start_time": "2024-06-05T15:15:42.206292Z"
    }
   },
   "id": "eac6024a4fe70918",
   "execution_count": 99
  },
  {
   "cell_type": "code",
   "outputs": [],
   "source": [
    "#On classe tous les autres vecteurs de la base d'apprentissage relativement a ces 2 vecteurs en utilisant le critère de la distance euclienne minimale.\n",
    "def class_vector(vector, classes):\n",
    "    class_v = 0\n",
    "    dist_min = distance_euclienne(vector, classes[0])\n",
    "    for k in range(1, len(classes)):\n",
    "        if distance_euclienne(vector,classes[k])<dist_min:\n",
    "            dist_min = distance_euclienne(vector, classes[k])\n",
    "            class_v = k\n",
    "    return class_v\n",
    "        \n",
    "def distance_euclienne(v1, v2):\n",
    "    return np.linalg.norm(v1-v2)\n"
   ],
   "metadata": {
    "collapsed": false,
    "ExecuteTime": {
     "end_time": "2024-06-05T15:15:42.231278Z",
     "start_time": "2024-06-05T15:15:42.210160200Z"
    }
   },
   "id": "d64c8461a66b7203",
   "execution_count": 100
  },
  {
   "cell_type": "code",
   "outputs": [],
   "source": [
    "#On obtient 2 classes de vecteurs. Pour chaque classe, on calcule le centre de gravité. les deux vecteurs obtenus remplacent c01 et c11.\n",
    "def distortion_moyenne(clusters, centers):\n",
    "    total_distortion = 0\n",
    "    total_vectors = 0\n",
    "\n",
    "    for cluster, center in zip(clusters, centers):\n",
    "        cluster = np.array(cluster)\n",
    "        center = np.array(center)\n",
    "\n",
    "        # Calcul de la distance entre chaque vecteur et son centre de gravité\n",
    "        distances = np.linalg.norm(cluster - center, axis=1) ** 2\n",
    "        total_distortion += np.sum(distances)\n",
    "        total_vectors += len(cluster)\n",
    "\n",
    "    mean_distortion = total_distortion / total_vectors\n",
    "    return mean_distortion"
   ],
   "metadata": {
    "collapsed": false,
    "ExecuteTime": {
     "end_time": "2024-06-05T15:15:42.231278Z",
     "start_time": "2024-06-05T15:15:42.214724600Z"
    }
   },
   "id": "e028f9f0446d326d",
   "execution_count": 101
  },
  {
   "cell_type": "code",
   "outputs": [],
   "source": [
    "def LBG(image_path, N, delta, n): #N: taille de bloc voulue ; delta: distortion max threshold ; n: nombre voulu de vecteurs prototypes.\n",
    "    matrix = image_to_gray_matrix(image_path)\n",
    "    vectors = matrix_to_vectors(matrix,N)    \n",
    "    eps = np.random.uniform(0.0001, 0.0002, N*N)\n",
    "    c0 = center_of_gravity(vectors)\n",
    "    prototypes = [c0]\n",
    "    while len(prototypes) < n:\n",
    "        classes = []\n",
    "        for vector in prototypes:\n",
    "            classes.append(split_vector(vector,eps)[0])\n",
    "            classes.append(split_vector(vector,eps)[1])\n",
    "        mean_distortion_before = 0\n",
    "        mean_distortion_after = 0.1\n",
    "        while abs(mean_distortion_after - mean_distortion_before) >= delta:\n",
    "            clusters = [[] for k in range(len(classes))]\n",
    "            for vector in vectors:\n",
    "                clusters[class_vector(vector, classes)].append(vector)\n",
    "            centers = [[] for k in range(len(classes))]\n",
    "            for k in range(len(clusters)):\n",
    "                centers[k].append(center_of_gravity(clusters[k]))\n",
    "            mean_distortion_before = mean_distortion_after\n",
    "            mean_distortion_after = distortion_moyenne(clusters, centers)\n",
    "            prototypes = centers\n",
    "    for k in range(len(vectors)):\n",
    "        vectors[k] = prototypes[class_vector(vector, prototypes)]\n",
    "        "
   ],
   "metadata": {
    "collapsed": false,
    "ExecuteTime": {
     "end_time": "2024-06-05T15:15:42.232267Z",
     "start_time": "2024-06-05T15:15:42.219231300Z"
    }
   },
   "id": "bb4c759d98a37a91",
   "execution_count": 102
  },
  {
   "cell_type": "code",
   "outputs": [
    {
     "name": "stdout",
     "output_type": "stream",
     "text": [
      "(512, 512)\n"
     ]
    }
   ],
   "source": [
    "matrix = image_to_gray_matrix(\"C:/Users/Axel/LBG/test.jpg\")\n",
    "print(matrix.shape)"
   ],
   "metadata": {
    "collapsed": false,
    "ExecuteTime": {
     "end_time": "2024-06-05T15:27:37.444169800Z",
     "start_time": "2024-06-05T15:27:37.433204800Z"
    }
   },
   "id": "67844e8fa7b02513",
   "execution_count": 107
  },
  {
   "cell_type": "code",
   "outputs": [
    {
     "ename": "NameError",
     "evalue": "name 'block' is not defined",
     "output_type": "error",
     "traceback": [
      "\u001B[1;31m---------------------------------------------------------------------------\u001B[0m",
      "\u001B[1;31mNameError\u001B[0m                                 Traceback (most recent call last)",
      "Cell \u001B[1;32mIn[109], line 1\u001B[0m\n\u001B[1;32m----> 1\u001B[0m \u001B[38;5;28mprint\u001B[39m(block)\n",
      "\u001B[1;31mNameError\u001B[0m: name 'block' is not defined"
     ]
    }
   ],
   "source": [
    "print(block)"
   ],
   "metadata": {
    "collapsed": false,
    "ExecuteTime": {
     "end_time": "2024-06-05T15:28:34.786157700Z",
     "start_time": "2024-06-05T15:28:34.779068400Z"
    }
   },
   "id": "59c5d702f4262b7c",
   "execution_count": 109
  },
  {
   "cell_type": "code",
   "outputs": [
    {
     "name": "stdout",
     "output_type": "stream",
     "text": [
      "[207. 207. 207. ...  76.  80.  91.]\n"
     ]
    }
   ],
   "source": [
    "blocks = split_matrix_into_blocks(matrix,16)\n",
    "print(blocks)"
   ],
   "metadata": {
    "collapsed": false,
    "ExecuteTime": {
     "end_time": "2024-06-05T15:27:51.294099300Z",
     "start_time": "2024-06-05T15:27:51.098301700Z"
    }
   },
   "id": "8c8d5bc8be25e349",
   "execution_count": 108
  },
  {
   "cell_type": "code",
   "outputs": [
    {
     "ename": "ValueError",
     "evalue": "not enough values to unpack (expected 2, got 0)",
     "output_type": "error",
     "traceback": [
      "\u001B[1;31m---------------------------------------------------------------------------\u001B[0m",
      "\u001B[1;31mValueError\u001B[0m                                Traceback (most recent call last)",
      "Cell \u001B[1;32mIn[105], line 1\u001B[0m\n\u001B[1;32m----> 1\u001B[0m vectors \u001B[38;5;241m=\u001B[39m matrix_to_vectors(matrix,\u001B[38;5;241m16\u001B[39m)\n\u001B[0;32m      2\u001B[0m \u001B[38;5;28mprint\u001B[39m(vectors)\n",
      "Cell \u001B[1;32mIn[97], line 21\u001B[0m, in \u001B[0;36mmatrix_to_vectors\u001B[1;34m(matrix, N)\u001B[0m\n\u001B[0;32m     19\u001B[0m blocks_list \u001B[38;5;241m=\u001B[39m split_matrix_into_blocks(matrix,N)\n\u001B[0;32m     20\u001B[0m \u001B[38;5;28;01mfor\u001B[39;00m k \u001B[38;5;129;01min\u001B[39;00m \u001B[38;5;28mrange\u001B[39m(\u001B[38;5;28mlen\u001B[39m(blocks_list)):\n\u001B[1;32m---> 21\u001B[0m     vector \u001B[38;5;241m=\u001B[39m block_to_vector(blocks_list[k])\n\u001B[0;32m     22\u001B[0m     matrix_blocks\u001B[38;5;241m.\u001B[39mappend(vector)\n\u001B[0;32m     23\u001B[0m \u001B[38;5;28;01mreturn\u001B[39;00m matrix_blocks\n",
      "Cell \u001B[1;32mIn[97], line 8\u001B[0m, in \u001B[0;36mblock_to_vector\u001B[1;34m(block)\u001B[0m\n\u001B[0;32m      3\u001B[0m \u001B[38;5;250m\u001B[39m\u001B[38;5;124;03m\"\"\"\u001B[39;00m\n\u001B[0;32m      4\u001B[0m \u001B[38;5;124;03mTransforme un block de taille N en un vecteur de dimension n² en empilant les colonnes.\u001B[39;00m\n\u001B[0;32m      5\u001B[0m \u001B[38;5;124;03m\u001B[39;00m\n\u001B[0;32m      6\u001B[0m \u001B[38;5;124;03m\"\"\"\u001B[39;00m\n\u001B[0;32m      7\u001B[0m \u001B[38;5;66;03m# Vérifier que le block est carré\u001B[39;00m\n\u001B[1;32m----> 8\u001B[0m rows, cols \u001B[38;5;241m=\u001B[39m block\u001B[38;5;241m.\u001B[39mshape\n\u001B[0;32m      9\u001B[0m \u001B[38;5;28;01mif\u001B[39;00m rows \u001B[38;5;241m!=\u001B[39m cols:\n\u001B[0;32m     10\u001B[0m     \u001B[38;5;28;01mraise\u001B[39;00m \u001B[38;5;167;01mValueError\u001B[39;00m(\u001B[38;5;124m\"\u001B[39m\u001B[38;5;124mLa matrice doit être carrée.\u001B[39m\u001B[38;5;124m\"\u001B[39m)\n",
      "\u001B[1;31mValueError\u001B[0m: not enough values to unpack (expected 2, got 0)"
     ]
    }
   ],
   "source": [
    "vectors = matrix_to_vectors(matrix,16)\n",
    "print(vectors)"
   ],
   "metadata": {
    "collapsed": false,
    "ExecuteTime": {
     "end_time": "2024-06-05T15:15:42.658025900Z",
     "start_time": "2024-06-05T15:15:42.443739500Z"
    }
   },
   "id": "629e07627128e0dd",
   "execution_count": 105
  },
  {
   "cell_type": "code",
   "outputs": [],
   "source": [
    "center = center_of_gravity(vectors)\n",
    "print(center)"
   ],
   "metadata": {
    "collapsed": false,
    "ExecuteTime": {
     "start_time": "2024-06-05T15:15:42.657025400Z"
    }
   },
   "id": "c0676618e99785cd",
   "execution_count": null
  },
  {
   "cell_type": "code",
   "outputs": [
    {
     "ename": "ValueError",
     "evalue": "not enough values to unpack (expected 2, got 0)",
     "output_type": "error",
     "traceback": [
      "\u001B[1;31m---------------------------------------------------------------------------\u001B[0m",
      "\u001B[1;31mValueError\u001B[0m                                Traceback (most recent call last)",
      "Cell \u001B[1;32mIn[106], line 1\u001B[0m\n\u001B[1;32m----> 1\u001B[0m LBG(\u001B[38;5;124m\"\u001B[39m\u001B[38;5;124mC:/Users/Axel/LBG/test.jpg\u001B[39m\u001B[38;5;124m\"\u001B[39m,\u001B[38;5;241m16\u001B[39m,\u001B[38;5;241m0.0001\u001B[39m,\u001B[38;5;241m256\u001B[39m)\n",
      "Cell \u001B[1;32mIn[102], line 3\u001B[0m, in \u001B[0;36mLBG\u001B[1;34m(image_path, N, delta, n)\u001B[0m\n\u001B[0;32m      1\u001B[0m \u001B[38;5;28;01mdef\u001B[39;00m \u001B[38;5;21mLBG\u001B[39m(image_path, N, delta, n): \u001B[38;5;66;03m#N: taille de bloc voulue ; delta: distortion max threshold ; n: nombre voulu de vecteurs prototypes.\u001B[39;00m\n\u001B[0;32m      2\u001B[0m     matrix \u001B[38;5;241m=\u001B[39m image_to_gray_matrix(image_path)\n\u001B[1;32m----> 3\u001B[0m     vectors \u001B[38;5;241m=\u001B[39m matrix_to_vectors(matrix,N)    \n\u001B[0;32m      4\u001B[0m     eps \u001B[38;5;241m=\u001B[39m np\u001B[38;5;241m.\u001B[39mrandom\u001B[38;5;241m.\u001B[39muniform(\u001B[38;5;241m0.0001\u001B[39m, \u001B[38;5;241m0.0002\u001B[39m, N\u001B[38;5;241m*\u001B[39mN)\n\u001B[0;32m      5\u001B[0m     c0 \u001B[38;5;241m=\u001B[39m center_of_gravity(vectors)\n",
      "Cell \u001B[1;32mIn[97], line 21\u001B[0m, in \u001B[0;36mmatrix_to_vectors\u001B[1;34m(matrix, N)\u001B[0m\n\u001B[0;32m     19\u001B[0m blocks_list \u001B[38;5;241m=\u001B[39m split_matrix_into_blocks(matrix,N)\n\u001B[0;32m     20\u001B[0m \u001B[38;5;28;01mfor\u001B[39;00m k \u001B[38;5;129;01min\u001B[39;00m \u001B[38;5;28mrange\u001B[39m(\u001B[38;5;28mlen\u001B[39m(blocks_list)):\n\u001B[1;32m---> 21\u001B[0m     vector \u001B[38;5;241m=\u001B[39m block_to_vector(blocks_list[k])\n\u001B[0;32m     22\u001B[0m     matrix_blocks\u001B[38;5;241m.\u001B[39mappend(vector)\n\u001B[0;32m     23\u001B[0m \u001B[38;5;28;01mreturn\u001B[39;00m matrix_blocks\n",
      "Cell \u001B[1;32mIn[97], line 8\u001B[0m, in \u001B[0;36mblock_to_vector\u001B[1;34m(block)\u001B[0m\n\u001B[0;32m      3\u001B[0m \u001B[38;5;250m\u001B[39m\u001B[38;5;124;03m\"\"\"\u001B[39;00m\n\u001B[0;32m      4\u001B[0m \u001B[38;5;124;03mTransforme un block de taille N en un vecteur de dimension n² en empilant les colonnes.\u001B[39;00m\n\u001B[0;32m      5\u001B[0m \u001B[38;5;124;03m\u001B[39;00m\n\u001B[0;32m      6\u001B[0m \u001B[38;5;124;03m\"\"\"\u001B[39;00m\n\u001B[0;32m      7\u001B[0m \u001B[38;5;66;03m# Vérifier que le block est carré\u001B[39;00m\n\u001B[1;32m----> 8\u001B[0m rows, cols \u001B[38;5;241m=\u001B[39m block\u001B[38;5;241m.\u001B[39mshape\n\u001B[0;32m      9\u001B[0m \u001B[38;5;28;01mif\u001B[39;00m rows \u001B[38;5;241m!=\u001B[39m cols:\n\u001B[0;32m     10\u001B[0m     \u001B[38;5;28;01mraise\u001B[39;00m \u001B[38;5;167;01mValueError\u001B[39;00m(\u001B[38;5;124m\"\u001B[39m\u001B[38;5;124mLa matrice doit être carrée.\u001B[39m\u001B[38;5;124m\"\u001B[39m)\n",
      "\u001B[1;31mValueError\u001B[0m: not enough values to unpack (expected 2, got 0)"
     ]
    }
   ],
   "source": [
    "LBG(\"C:/Users/Axel/LBG/test.jpg\",16,0.0001,256)"
   ],
   "metadata": {
    "collapsed": false,
    "ExecuteTime": {
     "end_time": "2024-06-05T15:15:49.530686500Z",
     "start_time": "2024-06-05T15:15:49.317967500Z"
    }
   },
   "id": "da28b01f53f7bc87",
   "execution_count": 106
  },
  {
   "cell_type": "code",
   "outputs": [],
   "source": [],
   "metadata": {
    "collapsed": false,
    "ExecuteTime": {
     "start_time": "2024-06-05T15:15:42.659031400Z"
    }
   },
   "id": "6957ae064d7b510c",
   "execution_count": null
  }
 ],
 "metadata": {
  "kernelspec": {
   "display_name": "Python 3",
   "language": "python",
   "name": "python3"
  },
  "language_info": {
   "codemirror_mode": {
    "name": "ipython",
    "version": 2
   },
   "file_extension": ".py",
   "mimetype": "text/x-python",
   "name": "python",
   "nbconvert_exporter": "python",
   "pygments_lexer": "ipython2",
   "version": "2.7.6"
  }
 },
 "nbformat": 4,
 "nbformat_minor": 5
}
