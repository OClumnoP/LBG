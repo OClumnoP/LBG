{
 "cells": [
  {
   "cell_type": "code",
   "execution_count": 113,
   "id": "initial_id",
   "metadata": {
    "collapsed": true,
    "ExecuteTime": {
     "end_time": "2024-06-05T15:57:11.947777800Z",
     "start_time": "2024-06-05T15:57:11.944768300Z"
    }
   },
   "outputs": [],
   "source": [
    "#On dispose d'une image d'entrée carrée en niveau de gris\n",
    "from PIL import Image\n",
    "import numpy as np\n",
    "\n",
    "def image_to_gray_matrix(image_path):\n",
    "    \"\"\"\n",
    "    Convertit une image en niveaux de gris en une matrice de niveaux de gris.\n",
    "\n",
    "    :param image_path: Chemin de l'image à convertir.\n",
    "    :return: Matrice numpy représentant les niveaux de gris de l'image.\n",
    "    \"\"\"\n",
    "    # Charger l'image\n",
    "    image = Image.open(image_path)\n",
    "\n",
    "    # Convertir l'image en niveaux de gris si ce n'est pas déjà le cas\n",
    "    if image.mode != 'L':\n",
    "        image = image.convert('L')\n",
    "\n",
    "    # Convertir l'image en matrice numpy\n",
    "    image_matrix = np.array(image)\n",
    "\n",
    "    return image_matrix\n",
    "\n",
    "\n",
    "#On répète jusqu'a ce que la distortion moyenne devienne inferieure a un certain seuil\n",
    "#A la fin de l'étape précédente on obtient ainsi deux vecteurs qui sont les centres de gravité des deux classes. On split ces deux vecteurs selon la ligne 5 encore, on applique l'étape 3 à nouveau sur ces 2 vecteurs. on s'arrete quand le nombre voulu de vecteurs prototypes (la par exemple on en a 4).\n",
    "#Une fois le dictionnaire formé, on remplace chaque bloc de l'image par son protoype le plus proche au sens de la distance euclidienne."
   ]
  },
  {
   "cell_type": "code",
   "outputs": [],
   "source": [
    "#Chaque bloc est mappé en vecteur de dimension N²\n",
    "\n",
    "def matrice_en_blocs_colonnes(matrice, N):\n",
    "    # Vérification des dimensions de la matrice\n",
    "    if matrice.shape[0] % N != 0 or matrice.shape[1] % N != 0:\n",
    "        raise ValueError(\"La taille de la matrice doit être un multiple de N\")\n",
    "    \n",
    "    # Initialiser la liste des vecteurs\n",
    "    vecteurs = []\n",
    "    \n",
    "    # Parcourir la matrice par blocs de taille NxN\n",
    "    for i in range(0, matrice.shape[0], N):\n",
    "        for j in range(0, matrice.shape[1], N):\n",
    "            # Extraire le bloc\n",
    "            bloc = matrice[i:i+N, j:j+N]\n",
    "            # Convertir le bloc en vecteur en empilant les colonnes\n",
    "            vecteur = bloc.T.flatten()\n",
    "            # Ajouter le vecteur à la liste\n",
    "            vecteurs.append(vecteur)\n",
    "    \n",
    "    return vecteurs"
   ],
   "metadata": {
    "collapsed": false,
    "ExecuteTime": {
     "end_time": "2024-06-05T15:57:18.426087300Z",
     "start_time": "2024-06-05T15:57:18.421074600Z"
    }
   },
   "id": "a460d2292e14a4ff",
   "execution_count": 115
  },
  {
   "cell_type": "code",
   "outputs": [],
   "source": [
    "#On détermine le vecteur qui est le centre de gravité c0 de tous les vecteurs\n",
    "def center_of_gravity(vectors):\n",
    "    \"\"\"\n",
    "    Détermine le centre de gravité d'une liste de vecteurs.\n",
    "\n",
    "    :param vectors: Liste de vecteurs numpy.\n",
    "    :return: Vecteur numpy représentant le centre de gravité.\n",
    "    \"\"\"\n",
    "    # Vérifier que la liste de vecteurs n'est pas vide\n",
    "    if len(vectors) == 0:\n",
    "        raise ValueError(\"La liste de vecteurs ne peut pas être vide.\")\n",
    "    \n",
    "    # Convertir la liste de vecteurs en une matrice numpy pour faciliter les opérations\n",
    "    vector_matrix = np.array(vectors)\n",
    "    \n",
    "    # Calculer la somme de tous les vecteurs\n",
    "    sum_vector = np.sum(vector_matrix, axis=0)\n",
    "    \n",
    "    # Calculer le centre de gravité en divisant par le nombre de vecteurs\n",
    "    center_vector = sum_vector / len(vectors)\n",
    "    \n",
    "    return center_vector"
   ],
   "metadata": {
    "collapsed": false,
    "ExecuteTime": {
     "end_time": "2024-06-05T15:57:19.070009800Z",
     "start_time": "2024-06-05T15:57:19.068005900Z"
    }
   },
   "id": "ed32aa9fb1a07428",
   "execution_count": 116
  },
  {
   "cell_type": "code",
   "outputs": [],
   "source": [
    "#On split ce vecteur en 2 vecteurs c01=c0+eps et c11=c0-eps\n",
    "def split_vector(vector,eps):\n",
    "    return [vector+eps, vector-eps]"
   ],
   "metadata": {
    "collapsed": false,
    "ExecuteTime": {
     "end_time": "2024-06-05T15:57:19.934800400Z",
     "start_time": "2024-06-05T15:57:19.931278Z"
    }
   },
   "id": "eac6024a4fe70918",
   "execution_count": 117
  },
  {
   "cell_type": "code",
   "outputs": [],
   "source": [
    "#On classe tous les autres vecteurs de la base d'apprentissage relativement a ces 2 vecteurs en utilisant le critère de la distance euclienne minimale.\n",
    "def class_vector(vector, classes):\n",
    "    class_v = 0\n",
    "    dist_min = distance_euclienne(vector, classes[0])\n",
    "    for k in range(1, len(classes)):\n",
    "        if distance_euclienne(vector,classes[k])<dist_min:\n",
    "            dist_min = distance_euclienne(vector, classes[k])\n",
    "            class_v = k\n",
    "    return class_v\n",
    "        \n",
    "def distance_euclienne(v1, v2):\n",
    "    return np.linalg.norm(v1-v2)\n"
   ],
   "metadata": {
    "collapsed": false,
    "ExecuteTime": {
     "end_time": "2024-06-05T15:57:20.587219900Z",
     "start_time": "2024-06-05T15:57:20.584215700Z"
    }
   },
   "id": "d64c8461a66b7203",
   "execution_count": 118
  },
  {
   "cell_type": "code",
   "outputs": [],
   "source": [
    "#On obtient 2 classes de vecteurs. Pour chaque classe, on calcule le centre de gravité. les deux vecteurs obtenus remplacent c01 et c11.\n",
    "def distortion_moyenne(clusters, centers):\n",
    "    total_distortion = 0\n",
    "    total_vectors = 0\n",
    "\n",
    "    for cluster, center in zip(clusters, centers):\n",
    "        # Calcul de la distance entre chaque vecteur et son centre de gravité\n",
    "        distances = np.linalg.norm(cluster - center) ** 2\n",
    "        total_distortion += np.sum(distances)\n",
    "        total_vectors += len(cluster)\n",
    "\n",
    "    mean_distortion = total_distortion / total_vectors\n",
    "    return mean_distortion"
   ],
   "metadata": {
    "collapsed": false,
    "ExecuteTime": {
     "end_time": "2024-06-05T16:44:00.065368500Z",
     "start_time": "2024-06-05T16:44:00.058893700Z"
    }
   },
   "id": "e028f9f0446d326d",
   "execution_count": 180
  },
  {
   "cell_type": "code",
   "outputs": [],
   "source": [
    "def LBG(image_path, N, delta, n): #N: taille de bloc voulue ; delta: distortion max threshold ; n: nombre voulu de vecteurs prototypes.\n",
    "    matrix = image_to_gray_matrix(image_path)\n",
    "    vectors = matrice_en_blocs_colonnes(matrix,N) \n",
    "    vectors_array=np.array([vectors])\n",
    "    eps = np.random.uniform(0.0001, 0.0002, N*N)\n",
    "    c0 = center_of_gravity(vectors_array)\n",
    "    prototypes = [c0]\n",
    "    while len(prototypes) < n:\n",
    "        classes = []\n",
    "        for vector in prototypes:\n",
    "            classes.append(split_vector(vector,eps)[0])\n",
    "            classes.append(split_vector(vector,eps)[1])\n",
    "        mean_distortion_before = 0\n",
    "        mean_distortion_after = 0.1\n",
    "        while abs(mean_distortion_after - mean_distortion_before) >= delta:\n",
    "            clusters = np.zeros((len(classes), 256))\n",
    "            for vector in vectors:\n",
    "                clusters[class_vector(vector, classes)]=vector\n",
    "            centers = np.zeros((len(classes), 256))\n",
    "            for k in range(clusters.shape[0]):\n",
    "                centers[k] = center_of_gravity(clusters[k])\n",
    "            print(centers[0])\n",
    "            mean_distortion_before = mean_distortion_after\n",
    "            mean_distortion_after = distortion_moyenne(clusters, centers)\n",
    "            prototypes = centers\n",
    "    for k in range(len(vectors)):\n",
    "        vectors[k] = prototypes[class_vector(vectors[k], prototypes)]\n",
    "    return"
   ],
   "metadata": {
    "collapsed": false,
    "is_executing": true,
    "ExecuteTime": {
     "start_time": "2024-06-05T16:59:41.770144300Z"
    }
   },
   "id": "bb4c759d98a37a91",
   "execution_count": null
  },
  {
   "cell_type": "code",
   "outputs": [],
   "source": [
    "LBG(\"C:/Users/Axel/LBG/test.jpg\",16,0.01,256)"
   ],
   "metadata": {
    "collapsed": false,
    "is_executing": true,
    "ExecuteTime": {
     "start_time": "2024-06-05T16:59:41.771147400Z"
    }
   },
   "id": "da28b01f53f7bc87",
   "execution_count": null
  }
 ],
 "metadata": {
  "kernelspec": {
   "display_name": "Python 3",
   "language": "python",
   "name": "python3"
  },
  "language_info": {
   "codemirror_mode": {
    "name": "ipython",
    "version": 2
   },
   "file_extension": ".py",
   "mimetype": "text/x-python",
   "name": "python",
   "nbconvert_exporter": "python",
   "pygments_lexer": "ipython2",
   "version": "2.7.6"
  }
 },
 "nbformat": 4,
 "nbformat_minor": 5
}
