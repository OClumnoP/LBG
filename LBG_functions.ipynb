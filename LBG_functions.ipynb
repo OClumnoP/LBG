{
 "cells": [
  {
   "cell_type": "markdown",
   "source": [
    "Ce notebook contient les différentes fonctions utilisées pour la mise en œuvre de l'algorithme LBG, également connu sous le nom d'algorithme de Lloyd généralisé. "
   ],
   "metadata": {
    "collapsed": false
   },
   "id": "cd82c38a50b97331"
  },
  {
   "cell_type": "markdown",
   "source": [
    "On commence par importer les différentes librairies nécessaires :"
   ],
   "metadata": {
    "collapsed": false
   },
   "id": "150f60fb9d3a649e"
  },
  {
   "cell_type": "code",
   "execution_count": 53,
   "outputs": [],
   "source": [
    "import math\n",
    "from functools import reduce\n",
    "from collections import defaultdict\n",
    "import random\n",
    "\n",
    "data_size = 0\n",
    "dim = 0\n"
   ],
   "metadata": {
    "collapsed": false,
    "ExecuteTime": {
     "end_time": "2024-06-05T10:56:36.460756800Z",
     "start_time": "2024-06-05T10:56:36.392681500Z"
    }
   },
   "id": "5c9e7f7a65904e4f"
  },
  {
   "cell_type": "markdown",
   "source": [
    "Les fonctions implémentées sont les suivantes :"
   ],
   "metadata": {
    "collapsed": false
   },
   "id": "41b459bb11a3aabe"
  },
  {
   "cell_type": "markdown",
   "source": [
    "genCodebook : génère un codebook (ensemble de vecteurs de taille N) à partir d'un ensemble de vecteurs d'apprentissage donné.  On itère jusqu'à ce que a convergence soit atteinte."
   ],
   "metadata": {
    "collapsed": false
   },
   "id": "7708222ad0ed2f0e"
  },
  {
   "cell_type": "code",
   "execution_count": 54,
   "outputs": [],
   "source": [
    "def genCodebook(data, N, delta=0.00001): #delta = seuil du max de distortion moyenne\n",
    "    global data_size\n",
    "    global dim\n",
    "    \n",
    "    data_size = len(data)\n",
    "    assert data_size > 0\n",
    "    \n",
    "    dim = len(data[0])\n",
    "    assert dim > 0\n",
    "    \n",
    "    codebook = []\n",
    "    codebook_poids_abs = [data_size]\n",
    "    codebook_poids_rel = [1.0]\n",
    "    \n",
    "    # Calcul du vecteur initial du codebook : on prend la moyenne de tous les vecteurs de notre image\n",
    "    \n",
    "    c0 = moy_vec_de_vecs(data, dim, data_size)\n",
    "    codebook.append(c0)\n",
    "    \n",
    "    # Calcul de la distorsion moyenne\n",
    "    \n",
    "    dist_moy = distortion_moy_c0(c0, data)\n",
    "    \n",
    "    # On split les \"codevectors\" autant que nécessaire\n",
    "    \n",
    "    while len(codebook) < N:\n",
    "        codebook, codebook_poids_abs, codebook_poids_rel, dist_moy = split_codebook(data, codebook, dist_moy, delta)\n",
    "    return codebook, codebook_poids_abs, codebook_poids_rel"
   ],
   "metadata": {
    "collapsed": false,
    "ExecuteTime": {
     "end_time": "2024-06-05T10:56:36.488029700Z",
     "start_time": "2024-06-05T10:56:36.467537Z"
    }
   },
   "id": "e1deec62ee27595b"
  },
  {
   "cell_type": "markdown",
   "source": [
    "moy_vec_de_vecs : calcule la moyenne de tous les vecteurs d'un ensemble de vecteurs donné."
   ],
   "metadata": {
    "collapsed": false
   },
   "id": "e5c1c95454c59b07"
  },
  {
   "cell_type": "code",
   "execution_count": 55,
   "outputs": [],
   "source": [
    "def moy_vec_de_vecs(vecs, dim_vecs=None, taille_vecs=None):\n",
    "    \n",
    "    dim_vecs = dim_vecs or len(vecs[0])\n",
    "    taille_vecs = taille_vecs or len(vecs)\n",
    "    vec_moy = [0.0] * dim_vecs  \n",
    "    for vec in vecs:\n",
    "        for i, x in enumerate(vec):\n",
    "            vec_moy[i] += x / taille_vecs\n",
    "\n",
    "    return vec_moy"
   ],
   "metadata": {
    "collapsed": false,
    "ExecuteTime": {
     "end_time": "2024-06-05T10:56:36.550334Z",
     "start_time": "2024-06-05T10:56:36.493290800Z"
    }
   },
   "id": "e740566e512260f9"
  },
  {
   "cell_type": "markdown",
   "source": [
    "distortion_moy_c0 : calcule la distorsion moyenne d'un ensemble de vecteurs par rapport à un vecteur donné."
   ],
   "metadata": {
    "collapsed": false
   },
   "id": "7daef0ed69f5ad1b"
  },
  {
   "cell_type": "code",
   "execution_count": 56,
   "outputs": [],
   "source": [
    "def distortion_moy_c0(c0, data, size=None):\n",
    "\n",
    "    size = size or data_size\n",
    "    return reduce(lambda s, d:  s + d / size,\n",
    "                  (distance_eucli(c0, vec)\n",
    "                   for vec in data),\n",
    "                  0.0)"
   ],
   "metadata": {
    "collapsed": false,
    "ExecuteTime": {
     "end_time": "2024-06-05T10:56:36.551422800Z",
     "start_time": "2024-06-05T10:56:36.506232400Z"
    }
   },
   "id": "64ced1574c7a9f4d"
  },
  {
   "cell_type": "markdown",
   "source": [
    "distortion_moy_codevector_list : calcule la distorsion moyenne d'un ensemble de vecteurs par rapport à un codebook donné."
   ],
   "metadata": {
    "collapsed": false
   },
   "id": "d79b6a06b9f50aa9"
  },
  {
   "cell_type": "code",
   "execution_count": 57,
   "outputs": [],
   "source": [
    "def distortion_moy_codevector_list(codevector_list, data):\n",
    "    return reduce(lambda s, d: s + d / data_size,\n",
    "                  (distance_eucli(codevector, vec)\n",
    "                   for codevector, vec in zip(codevector_list, data)),\n",
    "                  0.0)"
   ],
   "metadata": {
    "collapsed": false,
    "ExecuteTime": {
     "end_time": "2024-06-05T10:56:36.612424300Z",
     "start_time": "2024-06-05T10:56:36.557068700Z"
    }
   },
   "id": "46b0b88b2eae7561"
  },
  {
   "cell_type": "markdown",
   "source": [
    "distance_eucli : calcule la distance euclidienne entre deux vecteurs."
   ],
   "metadata": {
    "collapsed": false
   },
   "id": "452314c21b888302"
  },
  {
   "cell_type": "code",
   "execution_count": 58,
   "outputs": [],
   "source": [
    "def distance_eucli(vec1, vec2):\n",
    "    return math.sqrt(sum((x1 - x2) ** 2 for x1, x2 in zip(vec1, vec2)))"
   ],
   "metadata": {
    "collapsed": false,
    "ExecuteTime": {
     "end_time": "2024-06-05T10:56:36.711710900Z",
     "start_time": "2024-06-05T10:56:36.588093300Z"
    }
   },
   "id": "841c6115a3e37358"
  },
  {
   "cell_type": "markdown",
   "source": [
    "création du vecteur aléatoire epsilon : "
   ],
   "metadata": {
    "collapsed": false
   },
   "id": "c95899f27423e8db"
  },
  {
   "cell_type": "code",
   "execution_count": 59,
   "outputs": [],
   "source": [
    "def gen_vec_epsilon(codevector):\n",
    "    epsilon = []\n",
    "    for i in range(len(codevector)):\n",
    "        epsilon.append(random.uniform(-0.00001, 0.00001))\n",
    "    return epsilon"
   ],
   "metadata": {
    "collapsed": false,
    "ExecuteTime": {
     "end_time": "2024-06-05T10:56:36.714916600Z",
     "start_time": "2024-06-05T10:56:36.689723Z"
    }
   },
   "id": "c18b31431d1c525b"
  },
  {
   "cell_type": "markdown",
   "source": [
    "split_codebook : divise un codebook en deux parties et renvoie le codebook mis à jour."
   ],
   "metadata": {
    "collapsed": false
   },
   "id": "9e4fa1dbcf09ba50"
  },
  {
   "cell_type": "code",
   "execution_count": 60,
   "outputs": [],
   "source": [
    "def split_codebook(data, codebook, moy_dist_initial, delta=0.00001):\n",
    "   \n",
    "    # split codevectors\n",
    "    new_codevectors = []\n",
    "    for codevector in codebook:\n",
    "        epsilon = gen_vec_epsilon(codevector)\n",
    "        # On crée les deux nouveaux codevectors en adjutant et en soustrayant epsilon à chaque composante du codevector\n",
    "        c1 = [cv + ep for cv, ep in zip(codevector, epsilon)]\n",
    "        c2 = [cv - ep for cv, ep in zip(codevector, epsilon)]\n",
    "        new_codevectors.extend((c1, c2))\n",
    "\n",
    "    codebook = new_codevectors\n",
    "    len_codebook = len(codebook)\n",
    "    poids_abs = [0] * len_codebook\n",
    "    poids_rel = [0.0] * len_codebook\n",
    "    \n",
    "    # print('> split jusqu'à la bonne taille', len_codebook)\n",
    "\n",
    "    # on cherche la convergence en minimisant la distorsion moyenne\n",
    "    moy_dist = 0\n",
    "    err = delta + 1\n",
    "    num_iter = 0\n",
    "    while err > delta:\n",
    "        # On cherche les codevectors les plus proches pour chaque vecteur de données (on trouve la proximité de chaque codevector)\n",
    "        plus_proche_codevector_list = [None] * data_size\n",
    "        dist_moy = distortion_moy_codevector_list(plus_proche_codevector_list, data)# liste contenant le vecteur le plus poche pour chaque vecteur de données\n",
    "        vecs_proche_codevector = defaultdict(list)         # On mappe les vecteurs de données\n",
    "        vec_idxs_proche_codevector = defaultdict(list)     # de même\n",
    "        for i, vec in enumerate(data):  # pour chaque vecteur en entrée\n",
    "            dist_min = None\n",
    "            plus_proche_codevector_index = None\n",
    "            for i_c, c in enumerate(codebook):  # pour chaque codevector\n",
    "                d = distance_eucli(vec, c)\n",
    "                if dist_min is None or d < dist_min:    # Trouver le nouveau codevector le plus proche\n",
    "                    dist_min = d\n",
    "                    plus_proche_codevector_list[i] = c\n",
    "                    plus_proche_codevector_index = i_c\n",
    "            vecs_proche_codevector[plus_proche_codevector_index].append(vec)\n",
    "            vec_idxs_proche_codevector[plus_proche_codevector_index].append(i)\n",
    "\n",
    "        # on met à jour le codebook : on recalcule chaque codevector pour qu'il se trouve au centre des points de proximité\n",
    "        for i_c in range(len_codebook): # pour chaque index de codevector\n",
    "            vecs = vecs_proche_codevector.get(i_c) or []   # obtenir les vecteurs proches de ce codevector\n",
    "            num_vecs_proche_codevector = len(vecs)\n",
    "            if num_vecs_proche_codevector > 0:\n",
    "                new_codevector = moy_vec_de_vecs(vecs, dim)     # On calcule le nouveau centre de ce codevector\n",
    "                codebook[i_c] = new_codevector                   # nouveau codevector dans codebook\n",
    "                for i in vec_idxs_proche_codevector[i_c]:          # update in input vector index -> codevector mapping list\n",
    "                    plus_proche_codevector_list[i] = new_codevector\n",
    "\n",
    "                # update the weights\n",
    "                poids_abs[i_c] = num_vecs_proche_codevector\n",
    "                poids_rel[i_c] = num_vecs_proche_codevector / data_size\n",
    "\n",
    "        # On calcule de nouveau la distorsion moyenne\n",
    "        dist_moy_prec = dist_moy if dist_moy > 0 else moy_dist_initial\n",
    "        dist_moy = distortion_moy_codevector_list(plus_proche_codevector_list, data)\n",
    "\n",
    "        # On calcule de nouveau l'erreur\n",
    "        err = (dist_moy_prec - dist_moy) / dist_moy_prec\n",
    "        print(plus_proche_codevector_list)\n",
    "        print('> iteration', num_iter, 'dist_moy', dist_moy, 'dist_moy_prec', dist_moy_prec, 'err', err)\n",
    "\n",
    "        num_iter += 1\n",
    "\n",
    "    return codebook, poids_abs, poids_rel, dist_moy"
   ],
   "metadata": {
    "collapsed": false,
    "ExecuteTime": {
     "end_time": "2024-06-05T10:56:36.753280500Z",
     "start_time": "2024-06-05T10:56:36.726151400Z"
    }
   },
   "id": "4a0db523ebee3f7a"
  },
  {
   "cell_type": "markdown",
   "source": [
    "Test :"
   ],
   "metadata": {
    "collapsed": false
   },
   "id": "5a0e7de43e62fefc"
  },
  {
   "cell_type": "code",
   "execution_count": 61,
   "outputs": [
    {
     "name": "stdout",
     "output_type": "stream",
     "text": [
      "Génération du codebook 1\n",
      "output:\n",
      "> [[0.375, -0.375, 0.6624999999999999]], poids_abs=8, poids_rel=1.000000\n",
      "Génération du codebook 2\n"
     ]
    },
    {
     "ename": "TypeError",
     "evalue": "'NoneType' object is not iterable",
     "output_type": "error",
     "traceback": [
      "\u001B[1;31m---------------------------------------------------------------------------\u001B[0m",
      "\u001B[1;31mTypeError\u001B[0m                                 Traceback (most recent call last)",
      "Input \u001B[1;32mIn [61]\u001B[0m, in \u001B[0;36m<cell line: 10>\u001B[1;34m()\u001B[0m\n\u001B[0;32m     10\u001B[0m \u001B[38;5;28;01mfor\u001B[39;00m codebook_size \u001B[38;5;129;01min\u001B[39;00m (\u001B[38;5;241m1\u001B[39m, \u001B[38;5;241m2\u001B[39m, \u001B[38;5;241m4\u001B[39m, \u001B[38;5;241m8\u001B[39m):\n\u001B[0;32m     11\u001B[0m     \u001B[38;5;28mprint\u001B[39m(\u001B[38;5;124m'\u001B[39m\u001B[38;5;124mGénération du codebook\u001B[39m\u001B[38;5;124m'\u001B[39m, codebook_size)\n\u001B[1;32m---> 12\u001B[0m     codebook, codebook_p_abs, codebook_p_rel \u001B[38;5;241m=\u001B[39m \u001B[43mgenCodebook\u001B[49m\u001B[43m(\u001B[49m\u001B[43mtestdata\u001B[49m\u001B[43m,\u001B[49m\u001B[43m \u001B[49m\u001B[43mcodebook_size\u001B[49m\u001B[43m,\u001B[49m\u001B[43m \u001B[49m\u001B[43mdelta\u001B[49m\u001B[38;5;241;43m=\u001B[39;49m\u001B[38;5;241;43m0.00001\u001B[39;49m\u001B[43m)\u001B[49m\n\u001B[0;32m     13\u001B[0m     \u001B[38;5;28mprint\u001B[39m(\u001B[38;5;124m'\u001B[39m\u001B[38;5;124moutput:\u001B[39m\u001B[38;5;124m'\u001B[39m)\n\u001B[0;32m     14\u001B[0m     \u001B[38;5;28;01mfor\u001B[39;00m i, c \u001B[38;5;129;01min\u001B[39;00m \u001B[38;5;28menumerate\u001B[39m(codebook):\n",
      "Input \u001B[1;32mIn [54]\u001B[0m, in \u001B[0;36mgenCodebook\u001B[1;34m(data, N, delta)\u001B[0m\n\u001B[0;32m     24\u001B[0m \u001B[38;5;66;03m# On split les \"codevectors\" autant que nécessaire\u001B[39;00m\n\u001B[0;32m     26\u001B[0m \u001B[38;5;28;01mwhile\u001B[39;00m \u001B[38;5;28mlen\u001B[39m(codebook) \u001B[38;5;241m<\u001B[39m N:\n\u001B[1;32m---> 27\u001B[0m     codebook, codebook_poids_abs, codebook_poids_rel, dist_moy \u001B[38;5;241m=\u001B[39m \u001B[43msplit_codebook\u001B[49m\u001B[43m(\u001B[49m\u001B[43mdata\u001B[49m\u001B[43m,\u001B[49m\u001B[43m \u001B[49m\u001B[43mcodebook\u001B[49m\u001B[43m,\u001B[49m\u001B[43m \u001B[49m\u001B[43mdist_moy\u001B[49m\u001B[43m,\u001B[49m\u001B[43m \u001B[49m\u001B[43mdelta\u001B[49m\u001B[43m)\u001B[49m\n\u001B[0;32m     28\u001B[0m \u001B[38;5;28;01mreturn\u001B[39;00m codebook, codebook_poids_abs, codebook_poids_rel\n",
      "Input \u001B[1;32mIn [60]\u001B[0m, in \u001B[0;36msplit_codebook\u001B[1;34m(data, codebook, moy_dist_initial, delta)\u001B[0m\n\u001B[0;32m     23\u001B[0m \u001B[38;5;28;01mwhile\u001B[39;00m err \u001B[38;5;241m>\u001B[39m delta:\n\u001B[0;32m     24\u001B[0m     \u001B[38;5;66;03m# On cherche les codevectors les plus proches pour chaque vecteur de données (on trouve la proximité de chaque codevector)\u001B[39;00m\n\u001B[0;32m     25\u001B[0m     plus_proche_codevector_list \u001B[38;5;241m=\u001B[39m [\u001B[38;5;28;01mNone\u001B[39;00m] \u001B[38;5;241m*\u001B[39m data_size\n\u001B[1;32m---> 26\u001B[0m     dist_moy \u001B[38;5;241m=\u001B[39m \u001B[43mdistortion_moy_codevector_list\u001B[49m\u001B[43m(\u001B[49m\u001B[43mplus_proche_codevector_list\u001B[49m\u001B[43m,\u001B[49m\u001B[43m \u001B[49m\u001B[43mdata\u001B[49m\u001B[43m)\u001B[49m\u001B[38;5;66;03m# liste contenant le vecteur le plus poche pour chaque vecteur de données\u001B[39;00m\n\u001B[0;32m     27\u001B[0m     vecs_proche_codevector \u001B[38;5;241m=\u001B[39m defaultdict(\u001B[38;5;28mlist\u001B[39m)         \u001B[38;5;66;03m# On mappe les vecteurs de données\u001B[39;00m\n\u001B[0;32m     28\u001B[0m     vec_idxs_proche_codevector \u001B[38;5;241m=\u001B[39m defaultdict(\u001B[38;5;28mlist\u001B[39m)     \u001B[38;5;66;03m# de même\u001B[39;00m\n",
      "Input \u001B[1;32mIn [57]\u001B[0m, in \u001B[0;36mdistortion_moy_codevector_list\u001B[1;34m(codevector_list, data)\u001B[0m\n\u001B[0;32m      1\u001B[0m \u001B[38;5;28;01mdef\u001B[39;00m \u001B[38;5;21mdistortion_moy_codevector_list\u001B[39m(codevector_list, data):\n\u001B[1;32m----> 2\u001B[0m     \u001B[38;5;28;01mreturn\u001B[39;00m \u001B[43mreduce\u001B[49m\u001B[43m(\u001B[49m\u001B[38;5;28;43;01mlambda\u001B[39;49;00m\u001B[43m \u001B[49m\u001B[43ms\u001B[49m\u001B[43m,\u001B[49m\u001B[43m \u001B[49m\u001B[43md\u001B[49m\u001B[43m:\u001B[49m\u001B[43m \u001B[49m\u001B[43ms\u001B[49m\u001B[43m \u001B[49m\u001B[38;5;241;43m+\u001B[39;49m\u001B[43m \u001B[49m\u001B[43md\u001B[49m\u001B[43m \u001B[49m\u001B[38;5;241;43m/\u001B[39;49m\u001B[43m \u001B[49m\u001B[43mdata_size\u001B[49m\u001B[43m,\u001B[49m\n\u001B[0;32m      3\u001B[0m \u001B[43m                  \u001B[49m\u001B[43m(\u001B[49m\u001B[43mdistance_eucli\u001B[49m\u001B[43m(\u001B[49m\u001B[43mcodevector\u001B[49m\u001B[43m,\u001B[49m\u001B[43m \u001B[49m\u001B[43mvec\u001B[49m\u001B[43m)\u001B[49m\n\u001B[0;32m      4\u001B[0m \u001B[43m                   \u001B[49m\u001B[38;5;28;43;01mfor\u001B[39;49;00m\u001B[43m \u001B[49m\u001B[43mcodevector\u001B[49m\u001B[43m,\u001B[49m\u001B[43m \u001B[49m\u001B[43mvec\u001B[49m\u001B[43m \u001B[49m\u001B[38;5;129;43;01min\u001B[39;49;00m\u001B[43m \u001B[49m\u001B[38;5;28;43mzip\u001B[39;49m\u001B[43m(\u001B[49m\u001B[43mcodevector_list\u001B[49m\u001B[43m,\u001B[49m\u001B[43m \u001B[49m\u001B[43mdata\u001B[49m\u001B[43m)\u001B[49m\u001B[43m)\u001B[49m\u001B[43m,\u001B[49m\n\u001B[0;32m      5\u001B[0m \u001B[43m                  \u001B[49m\u001B[38;5;241;43m0.0\u001B[39;49m\u001B[43m)\u001B[49m\n",
      "Input \u001B[1;32mIn [57]\u001B[0m, in \u001B[0;36m<genexpr>\u001B[1;34m(.0)\u001B[0m\n\u001B[0;32m      1\u001B[0m \u001B[38;5;28;01mdef\u001B[39;00m \u001B[38;5;21mdistortion_moy_codevector_list\u001B[39m(codevector_list, data):\n\u001B[0;32m      2\u001B[0m     \u001B[38;5;28;01mreturn\u001B[39;00m reduce(\u001B[38;5;28;01mlambda\u001B[39;00m s, d: s \u001B[38;5;241m+\u001B[39m d \u001B[38;5;241m/\u001B[39m data_size,\n\u001B[1;32m----> 3\u001B[0m                   (\u001B[43mdistance_eucli\u001B[49m\u001B[43m(\u001B[49m\u001B[43mcodevector\u001B[49m\u001B[43m,\u001B[49m\u001B[43m \u001B[49m\u001B[43mvec\u001B[49m\u001B[43m)\u001B[49m\n\u001B[0;32m      4\u001B[0m                    \u001B[38;5;28;01mfor\u001B[39;00m codevector, vec \u001B[38;5;129;01min\u001B[39;00m \u001B[38;5;28mzip\u001B[39m(codevector_list, data)),\n\u001B[0;32m      5\u001B[0m                   \u001B[38;5;241m0.0\u001B[39m)\n",
      "Input \u001B[1;32mIn [58]\u001B[0m, in \u001B[0;36mdistance_eucli\u001B[1;34m(vec1, vec2)\u001B[0m\n\u001B[0;32m      1\u001B[0m \u001B[38;5;28;01mdef\u001B[39;00m \u001B[38;5;21mdistance_eucli\u001B[39m(vec1, vec2):\n\u001B[1;32m----> 2\u001B[0m     \u001B[38;5;28;01mreturn\u001B[39;00m math\u001B[38;5;241m.\u001B[39msqrt(\u001B[38;5;28msum\u001B[39m((x1 \u001B[38;5;241m-\u001B[39m x2) \u001B[38;5;241m*\u001B[39m\u001B[38;5;241m*\u001B[39m \u001B[38;5;241m2\u001B[39m \u001B[38;5;28;01mfor\u001B[39;00m x1, x2 \u001B[38;5;129;01min\u001B[39;00m \u001B[38;5;28;43mzip\u001B[39;49m\u001B[43m(\u001B[49m\u001B[43mvec1\u001B[49m\u001B[43m,\u001B[49m\u001B[43m \u001B[49m\u001B[43mvec2\u001B[49m\u001B[43m)\u001B[49m))\n",
      "\u001B[1;31mTypeError\u001B[0m: 'NoneType' object is not iterable"
     ]
    }
   ],
   "source": [
    "testdata = [(-1.5, 2.0, 5.0),\n",
    "            (-2.0, -2.0, 0.0),\n",
    "            (1.0, 1.0, 2.0),\n",
    "            (1.5, 1.5, 1.2),\n",
    "            (1.0, 2.0, 5.6),\n",
    "            (1.0, -2.0, -2.0),\n",
    "            (1.0, -3.0, -2.0),\n",
    "            (1.0, -2.5, -4.5)]\n",
    "\n",
    "for codebook_size in (1, 2, 4, 8):\n",
    "    print('Génération du codebook', codebook_size)\n",
    "    codebook, codebook_p_abs, codebook_p_rel = genCodebook(testdata, codebook_size, delta=0.00001)\n",
    "    print('output:')\n",
    "    for i, c in enumerate(codebook):\n",
    "        print('> %s, poids_abs=%d, poids_rel=%f' % (codebook, codebook_p_abs[i], codebook_p_rel[i]))"
   ],
   "metadata": {
    "collapsed": false,
    "ExecuteTime": {
     "end_time": "2024-06-05T10:56:36.843674700Z",
     "start_time": "2024-06-05T10:56:36.758718400Z"
    }
   },
   "id": "a744a3c7c79eaae2"
  },
  {
   "cell_type": "code",
   "execution_count": null,
   "outputs": [],
   "source": [],
   "metadata": {
    "collapsed": false,
    "ExecuteTime": {
     "start_time": "2024-06-05T10:56:36.840293700Z"
    }
   },
   "id": "9d3fda3952a870b6"
  }
 ],
 "metadata": {
  "kernelspec": {
   "display_name": "Python 3",
   "language": "python",
   "name": "python3"
  },
  "language_info": {
   "codemirror_mode": {
    "name": "ipython",
    "version": 2
   },
   "file_extension": ".py",
   "mimetype": "text/x-python",
   "name": "python",
   "nbconvert_exporter": "python",
   "pygments_lexer": "ipython2",
   "version": "2.7.6"
  }
 },
 "nbformat": 4,
 "nbformat_minor": 5
}
