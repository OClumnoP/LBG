{
 "cells": [
  {
   "cell_type": "markdown",
   "source": [
    "Ce notebook contient les différentes fonctions utilisées pour la mise en œuvre de l'algorithme LBG, également connu sous le nom d'algorithme de Lloyd généralisé. "
   ],
   "metadata": {
    "collapsed": false
   },
   "id": "cd82c38a50b97331"
  },
  {
   "cell_type": "markdown",
   "source": [
    "On commence par importer les différentes librairies nécessaires :"
   ],
   "metadata": {
    "collapsed": false
   },
   "id": "150f60fb9d3a649e"
  },
  {
   "cell_type": "code",
   "execution_count": null,
   "outputs": [],
   "source": [
    "import math\n",
    "from functools import reduce\n",
    "from collections import defaultdict\n",
    "\n",
    "data_size = 0\n",
    "dim = 0"
   ],
   "metadata": {
    "collapsed": false
   },
   "id": "5c9e7f7a65904e4f"
  },
  {
   "cell_type": "markdown",
   "source": [
    "Les fonctions implémentées sont les suivantes :"
   ],
   "metadata": {
    "collapsed": false
   },
   "id": "41b459bb11a3aabe"
  },
  {
   "cell_type": "markdown",
   "source": [
    "genCodebook : génère un codebook (ensemble de vecteurs de taille N) à partir d'un ensemble de vecteurs d'apprentissage donné.  On itère jusqu'à ce que a convergence soit atteinte."
   ],
   "metadata": {
    "collapsed": false
   },
   "id": "7708222ad0ed2f0e"
  },
  {
   "cell_type": "code",
   "execution_count": null,
   "outputs": [],
   "source": [
    "def genCodebook(data, N, epsilon):\n",
    "    global data_size\n",
    "    global dim\n",
    "    data_size = len(data)\n",
    "    dim = len(data[0])\n",
    "    codebook = []\n",
    "    for i in range(N):\n",
    "        codebook.append(data[i])\n",
    "    distortion = 0\n",
    "    prev_distortion = 0\n",
    "    while True:\n",
    "        prev_distortion = distortion\n",
    "        clusters = assignToClusters(data, codebook)\n",
    "        codebook = updateCodebook(data, clusters, N)\n",
    "        distortion = computeDistortion(data, clusters, codebook)\n",
    "        if abs(prev_distortion - distortion) < epsilon:\n",
    "            break\n",
    "    return codebook"
   ],
   "metadata": {
    "collapsed": false
   },
   "id": "e1deec62ee27595b"
  }
 ],
 "metadata": {
  "kernelspec": {
   "display_name": "Python 3",
   "language": "python",
   "name": "python3"
  },
  "language_info": {
   "codemirror_mode": {
    "name": "ipython",
    "version": 2
   },
   "file_extension": ".py",
   "mimetype": "text/x-python",
   "name": "python",
   "nbconvert_exporter": "python",
   "pygments_lexer": "ipython2",
   "version": "2.7.6"
  }
 },
 "nbformat": 4,
 "nbformat_minor": 5
}
