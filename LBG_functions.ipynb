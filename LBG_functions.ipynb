{
 "cells": [
  {
   "cell_type": "markdown",
   "source": [
    "Ce notebook contient les différentes fonctions utilisées pour la mise en œuvre de l'algorithme LBG, également connu sous le nom d'algorithme de Lloyd généralisé. "
   ],
   "metadata": {
    "collapsed": false
   },
   "id": "cd82c38a50b97331"
  },
  {
   "cell_type": "markdown",
   "source": [
    "On commence par importer les différentes librairies nécessaires :"
   ],
   "metadata": {
    "collapsed": false
   },
   "id": "150f60fb9d3a649e"
  },
  {
   "cell_type": "code",
   "execution_count": null,
   "outputs": [],
   "source": [
    "import math\n",
    "from functools import reduce\n",
    "from collections import defaultdict\n",
    "\n",
    "data_size = 0\n",
    "dim = 0"
   ],
   "metadata": {
    "collapsed": false,
    "is_executing": true
   },
   "id": "5c9e7f7a65904e4f"
  },
  {
   "cell_type": "markdown",
   "source": [
    "Les fonctions implémentées sont les suivantes :"
   ],
   "metadata": {
    "collapsed": false
   },
   "id": "41b459bb11a3aabe"
  },
  {
   "cell_type": "markdown",
   "source": [
    "genCodebook : génère un codebook (ensemble de vecteurs de taille N) à partir d'un ensemble de vecteurs d'apprentissage donné.  On itère jusqu'à ce que a convergence soit atteinte."
   ],
   "metadata": {
    "collapsed": false
   },
   "id": "7708222ad0ed2f0e"
  },
  {
   "cell_type": "code",
   "execution_count": null,
   "outputs": [],
   "source": [
    "def genCodebook(data, N, epsilon):\n",
    "    global data_size\n",
    "    global dim\n",
    "    \n",
    "    data_size = len(data)\n",
    "    assert data_size > 0\n",
    "    \n",
    "    dim = len(data[0])\n",
    "    assert dim > 0\n",
    "    \n",
    "    codebook = []\n",
    "    codebook_weights_abs = [data_size]\n",
    "    codebook_weights_rel = [1.0]\n",
    "    \n",
    "    # On calcule le vecteur initial du codebook : on prend la moyenne de tous les vecteurs de notre image\n",
    "    c0 = moy_vec_de_vecs(data, dim, data_size)\n",
    "    codebook.append(c0)"
   ],
   "metadata": {
    "collapsed": false
   },
   "id": "e1deec62ee27595b"
  },
  {
   "cell_type": "markdown",
   "source": [
    "moy_vec_de_vecs : calcule la moyenne de tous les vecteurs d'un ensemble de vecteurs donné."
   ],
   "metadata": {
    "collapsed": false
   },
   "id": "e5c1c95454c59b07"
  },
  {
   "cell_type": "code",
   "execution_count": null,
   "outputs": [],
   "source": [
    "def avg_vec_of_vecs(vecs, dim=None, size=None):\n",
    "    \"\"\"\n",
    "    Calculcate average vector (center vector) for input vectors <vecs>.\n",
    "    :param vecs: input vectors\n",
    "    :param dim: dimension of <vecs> if it was already calculated\n",
    "    :param size: size of <vecs> if it was already calculated\n",
    "    :return average vector (center vector) for input vectors <vecs>\n",
    "    \"\"\"\n",
    "    size = size or len(vecs)\n",
    "    dim = dim or len(vecs[0])\n",
    "    avg_vec = [0.0] * dim\n",
    "    for vec in vecs:\n",
    "        for i, x in enumerate(vec):\n",
    "            avg_vec[i] += x / size\n",
    "\n",
    "    return avg_vec"
   ],
   "metadata": {
    "collapsed": false
   },
   "id": "e740566e512260f9"
  }
 ],
 "metadata": {
  "kernelspec": {
   "display_name": "Python 3",
   "language": "python",
   "name": "python3"
  },
  "language_info": {
   "codemirror_mode": {
    "name": "ipython",
    "version": 2
   },
   "file_extension": ".py",
   "mimetype": "text/x-python",
   "name": "python",
   "nbconvert_exporter": "python",
   "pygments_lexer": "ipython2",
   "version": "2.7.6"
  }
 },
 "nbformat": 4,
 "nbformat_minor": 5
}
