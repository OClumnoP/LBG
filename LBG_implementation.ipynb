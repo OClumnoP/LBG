{
 "cells": [
  {
   "cell_type": "code",
   "outputs": [],
   "source": [
    "import lbg \n",
    "\n",
    "testdata = [(-1.5, 2.0, 5.0),\n",
    "            (-2.0, -2.0, 0.0),\n",
    "            (1.0, 1.0, 2.0),\n",
    "            (1.5, 1.5, 1.2),\n",
    "            (1.0, 2.0, 5.6),\n",
    "            (1.0, -2.0, -2.0),\n",
    "            (1.0, -3.0, -2.0),\n",
    "            (1.0, -2.5, -4.5)]\n",
    "\n",
    "for cb_size in (1, 2, 4, 8):\n",
    "    print('generating codebook for size', cb_size)\n",
    "    cb, cb_abs_w, cb_rel_w = lbg.generate_codebook(testdata, cb_size)\n",
    "    print('output:')\n",
    "    for i, c in enumerate(cb):\n",
    "        print('> %s, abs_weight=%d, rel_weight=%f' % (c, cb_abs_w[i], cb_rel_w[i]))"
   ],
   "metadata": {
    "collapsed": false,
    "is_executing": true
   },
   "id": "d0541b9d4a3fbe36"
  },
  {
   "cell_type": "code",
   "outputs": [],
   "source": [],
   "metadata": {
    "collapsed": false
   },
   "id": "a23f5e1535d85e60"
  }
 ],
 "metadata": {
  "kernelspec": {
   "display_name": "Python 3",
   "language": "python",
   "name": "python3"
  },
  "language_info": {
   "codemirror_mode": {
    "name": "ipython",
    "version": 2
   },
   "file_extension": ".py",
   "mimetype": "text/x-python",
   "name": "python",
   "nbconvert_exporter": "python",
   "pygments_lexer": "ipython2",
   "version": "2.7.6"
  }
 },
 "nbformat": 4,
 "nbformat_minor": 5
}
